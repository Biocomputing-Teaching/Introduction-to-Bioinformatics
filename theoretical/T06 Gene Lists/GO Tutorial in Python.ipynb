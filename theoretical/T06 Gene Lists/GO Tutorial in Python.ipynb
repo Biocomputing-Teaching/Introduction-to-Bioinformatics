{
 "cells": [
  {
   "cell_type": "markdown",
   "metadata": {},
   "source": [
    "# Extract from: A Gene Ontology Tutorial in Python - Model Solutions to Exercises"
   ]
  },
  {
   "cell_type": "markdown",
   "metadata": {},
   "source": [
    "This is a subset of the electronic exercises (with solutions) accompanying the book chapter [\"A Gene Ontology Tutorial in Python\"](https://link.springer.com/protocol/10.1007/978-1-4939-3743-1_16) by Alex Warwick Vesztrocy and Christophe Dessimoz, from _The Gene Ontology Handbook_, C Dessimoz and N Skunca Eds, Springer Humana. The complete file is available [here](http://gohandbook.org/doku.php).\n",
    "\n",
    "Version: 1.0.2 (Feb 2019): _Updated QuickGO API calls and usage of GOATOOLS to version 0.8.12_"
   ]
  },
  {
   "cell_type": "markdown",
   "metadata": {},
   "source": [
    "## Querying the Gene Ontology\n",
    "\n",
    "First, we need to load the GOATools library. This enables us to parse the Gene Ontology (GO) OBO file. For more information on GOATools, see <a href=\"https://github.com/tanghaibao/goatools\">their documentation</a>.\n",
    "\n",
    "To install goatools, do the following. First, add `bioconda`to your channels:\n",
    "```\n",
    "conda config --add channels defaults\n",
    "conda config --add channels bioconda\n",
    "conda config --add channels conda-forge\n",
    "```\n",
    "next, install goatools by typing:\n",
    "```\n",
    "conda install goatools\n",
    "```\n",
    "\n",
    "Alternatively, install with `pip`:\n",
    "```\n",
    "pip install goatools\n",
    "```\n",
    "\n",
    "If , through the use if this script, you find some problems with uninstalled libraries, use the usual `conda`, `pip`, `brew`, etc, methods to keep going."
   ]
  },
  {
   "cell_type": "code",
   "execution_count": 1,
   "metadata": {},
   "outputs": [],
   "source": [
    "# Import the OBO parser from GOATools\n",
    "from goatools import obo_parser"
   ]
  },
  {
   "cell_type": "markdown",
   "metadata": {},
   "source": [
    "In order to download the GO OBO file, we also require the <code>wget</code> and <code>os</code> libraries. See more information [here](http://geneontology.org/docs/download-ontology/)."
   ]
  },
  {
   "cell_type": "code",
   "execution_count": 2,
   "metadata": {},
   "outputs": [],
   "source": [
    "import wget\n",
    "import os"
   ]
  },
  {
   "cell_type": "markdown",
   "metadata": {},
   "source": [
    "Now, we can download the OBO file into the <code>'./data'</code> folder using the following. We are going to download the <code>go-basic.obo</code> version of the ontology, which is guaranteed to be acyclic, which means that annotations can be propagated up the graph."
   ]
  },
  {
   "cell_type": "code",
   "execution_count": 3,
   "metadata": {},
   "outputs": [],
   "source": [
    "go_obo_url = 'http://purl.obolibrary.org/obo/go/go-basic.obo'\n",
    "data_folder = os.getcwd() + '/data'\n",
    "\n",
    "# Check if we have the ./data directory already\n",
    "if(not os.path.isfile(data_folder)):\n",
    "    # Emulate mkdir -p (no error if folder exists)\n",
    "    try:\n",
    "        os.mkdir(data_folder)\n",
    "    except OSError as e:\n",
    "        if(e.errno != 17):\n",
    "            raise e\n",
    "else:\n",
    "    raise Exception('Data path (' + data_folder + ') exists as a file. '\n",
    "                   'Please rename, remove or change the desired location of the data path.')\n",
    "\n",
    "# Check if the file exists already\n",
    "if(not os.path.isfile(data_folder+'/go-basic.obo')):\n",
    "    go_obo = wget.download(go_obo_url, data_folder+'/go-basic.obo')\n",
    "else:\n",
    "    go_obo = data_folder+'/go-basic.obo'"
   ]
  },
  {
   "cell_type": "markdown",
   "metadata": {},
   "source": [
    "The path to the GO OBO file is now stored in the variable <code>go_obo</code>."
   ]
  },
  {
   "cell_type": "code",
   "execution_count": 4,
   "metadata": {},
   "outputs": [
    {
     "name": "stdout",
     "output_type": "stream",
     "text": [
      "/Users/annaballus/GitHub/Introduction-to-Bioinformatics/theoretical/T06 Gene Lists/data/go-basic.obo\n"
     ]
    }
   ],
   "source": [
    "print(go_obo)"
   ]
  },
  {
   "cell_type": "markdown",
   "metadata": {},
   "source": [
    "Now we can create a dictionary of the GO terms, using the <code>obo_parser</code> from GOATools."
   ]
  },
  {
   "cell_type": "code",
   "execution_count": 5,
   "metadata": {},
   "outputs": [
    {
     "name": "stderr",
     "output_type": "stream",
     "text": [
      "load obo file /Users/annaballus/GitHub/Introduction-to-Bioinformatics/theoretical/T06 Gene Lists/data/go-basic.obo\n"
     ]
    },
    {
     "name": "stdout",
     "output_type": "stream",
     "text": [
      "/Users/annaballus/GitHub/Introduction-to-Bioinformatics/theoretical/T06 Gene Lists/data/go-basic.obo: format-version(1.2) data-version(releases/2021-02-01)\n"
     ]
    },
    {
     "name": "stderr",
     "output_type": "stream",
     "text": [
      "50515 nodes imported\n"
     ]
    }
   ],
   "source": [
    "go = obo_parser.GODag(go_obo)"
   ]
  },
  {
   "cell_type": "markdown",
   "metadata": {},
   "source": [
    "#### Question 1\n",
    "What is the name of the GO term <code>GO:0048527</code>?"
   ]
  },
  {
   "cell_type": "markdown",
   "metadata": {},
   "source": [
    "#### Answer 1"
   ]
  },
  {
   "cell_type": "code",
   "execution_count": 7,
   "metadata": {},
   "outputs": [
    {
     "name": "stdout",
     "output_type": "stream",
     "text": [
      "GO:0048527\tlevel-05\tdepth-06\tlateral root development [biological_process] \n"
     ]
    }
   ],
   "source": [
    "go_id = 'GO:0048527'\n",
    "go_term = go[go_id]\n",
    "print(go_term)"
   ]
  },
  {
   "cell_type": "code",
   "execution_count": 9,
   "metadata": {},
   "outputs": [
    {
     "name": "stdout",
     "output_type": "stream",
     "text": [
      "GO term name: lateral root development\n",
      "GO term namespace: biological_process\n"
     ]
    }
   ],
   "source": [
    "print('GO term name: {}'.format(go_term.name))\n",
    "print('GO term namespace: {}'.format(go_term.namespace))"
   ]
  },
  {
   "cell_type": "markdown",
   "metadata": {},
   "source": [
    "#### Question 2\n",
    "\n",
    "What are the immediate parent(s) of the term <code>GO:00048527</code>?"
   ]
  },
  {
   "cell_type": "markdown",
   "metadata": {},
   "source": [
    "#### Answer 2"
   ]
  },
  {
   "cell_type": "code",
   "execution_count": 11,
   "metadata": {},
   "outputs": [
    {
     "name": "stdout",
     "output_type": "stream",
     "text": [
      "GO:0048528\tlevel-04\tdepth-05\tpost-embryonic root development [biological_process] \n"
     ]
    }
   ],
   "source": [
    "for term in go_term.parents:\n",
    "    print(term)"
   ]
  },
  {
   "cell_type": "markdown",
   "metadata": {},
   "source": [
    "#### Question 3\n",
    "What are the immediate children of the term <code>GO:0048527</code>?"
   ]
  },
  {
   "cell_type": "markdown",
   "metadata": {},
   "source": [
    "#### Answer 3"
   ]
  },
  {
   "cell_type": "code",
   "execution_count": 12,
   "metadata": {},
   "outputs": [],
   "source": [
    "for term in go_term.children:\n",
    "    print(term)"
   ]
  },
  {
   "cell_type": "markdown",
   "metadata": {},
   "source": [
    "#### Question 4\n",
    "Recursively find all the parent and child terms of the term <code>GO:0048527</code>. _Hint_: use your solutions to the previous two questions, with a recursive loop."
   ]
  },
  {
   "cell_type": "markdown",
   "metadata": {},
   "source": [
    "#### Answer 4"
   ]
  },
  {
   "cell_type": "markdown",
   "metadata": {},
   "source": [
    "First, we can define functions to find the parents and children of a GO term, as well as one that finds both - the transitive closure."
   ]
  },
  {
   "cell_type": "code",
   "execution_count": 13,
   "metadata": {},
   "outputs": [],
   "source": [
    "def transitive_closure(go_term, go):\n",
    "    go_term_set = set()\n",
    "    find_parents(go_term, go, go_term_set)\n",
    "    find_children(go_term, go, go_term_set)\n",
    "    return go_term_set\n",
    "    \n",
    "def find_parents(term1, go, go_term_set={}, ret=False):\n",
    "    for term2 in term1.parents:\n",
    "        go_term_set.update({term2})\n",
    "        \n",
    "        # Recurse on term to find all parents\n",
    "        find_parents(term2, go, go_term_set)          \n",
    "    if(ret):\n",
    "        return go_term_set\n",
    "\n",
    "def find_children(term1, go, go_term_set={}, ret=False):\n",
    "    for term2 in term1.children:\n",
    "        go_term_set.update({term2})\n",
    "        \n",
    "        # Recurse on term to find all children\n",
    "        find_children(term2, go, go_term_set)\n",
    "    if(ret):\n",
    "        return go_term_set"
   ]
  },
  {
   "cell_type": "markdown",
   "metadata": {},
   "source": [
    "Now we can create the transitive closure as a set by calling the following."
   ]
  },
  {
   "cell_type": "code",
   "execution_count": 14,
   "metadata": {},
   "outputs": [],
   "source": [
    "go_term_set = transitive_closure(go_term, go)"
   ]
  },
  {
   "cell_type": "markdown",
   "metadata": {},
   "source": [
    "We can now print this out using the \"pretty print\"f eature that is inherited from GOATools."
   ]
  },
  {
   "cell_type": "code",
   "execution_count": 15,
   "metadata": {},
   "outputs": [
    {
     "name": "stdout",
     "output_type": "stream",
     "text": [
      "GO:0048528\tlevel-04\tdepth-05\tpost-embryonic root development [biological_process] \n",
      "GO:0032502\tlevel-01\tdepth-01\tdevelopmental process [biological_process] \n",
      "GO:0048856\tlevel-02\tdepth-02\tanatomical structure development [biological_process] \n",
      "GO:0008150\tlevel-00\tdepth-00\tbiological_process [biological_process] \n",
      "GO:0048364\tlevel-04\tdepth-04\troot development [biological_process] \n",
      "GO:0009791\tlevel-02\tdepth-02\tpost-embryonic development [biological_process] \n",
      "GO:0099402\tlevel-03\tdepth-03\tplant organ development [biological_process] \n",
      "GO:0090696\tlevel-03\tdepth-04\tpost-embryonic plant organ development [biological_process] \n",
      "GO:0032501\tlevel-01\tdepth-01\tmulticellular organismal process [biological_process] \n"
     ]
    }
   ],
   "source": [
    "for term in go_term_set:\n",
    "    print(term)"
   ]
  },
  {
   "cell_type": "markdown",
   "metadata": {},
   "source": [
    "An alternative method is by using an inbuilt function of GOATools."
   ]
  },
  {
   "cell_type": "code",
   "execution_count": 16,
   "metadata": {},
   "outputs": [],
   "source": [
    "rec = go[go_id]\n",
    "parents = rec.get_all_parents()\n",
    "children = rec.get_all_children()"
   ]
  },
  {
   "cell_type": "code",
   "execution_count": 17,
   "metadata": {},
   "outputs": [
    {
     "name": "stdout",
     "output_type": "stream",
     "text": [
      "GO:0008150\tlevel-00\tdepth-00\tbiological_process [biological_process] \n",
      "GO:0090696\tlevel-03\tdepth-04\tpost-embryonic plant organ development [biological_process] \n",
      "GO:0032502\tlevel-01\tdepth-01\tdevelopmental process [biological_process] \n",
      "GO:0099402\tlevel-03\tdepth-03\tplant organ development [biological_process] \n",
      "GO:0048528\tlevel-04\tdepth-05\tpost-embryonic root development [biological_process] \n",
      "GO:0009791\tlevel-02\tdepth-02\tpost-embryonic development [biological_process] \n",
      "GO:0048856\tlevel-02\tdepth-02\tanatomical structure development [biological_process] \n",
      "GO:0032501\tlevel-01\tdepth-01\tmulticellular organismal process [biological_process] \n",
      "GO:0048364\tlevel-04\tdepth-04\troot development [biological_process] \n"
     ]
    }
   ],
   "source": [
    "for term in parents.union(children):\n",
    "    print(go[term])"
   ]
  },
  {
   "cell_type": "markdown",
   "metadata": {},
   "source": [
    "#### Question 5 \n",
    "How many GO terms have the word “growth” in their name?"
   ]
  },
  {
   "cell_type": "markdown",
   "metadata": {},
   "source": [
    "#### Answer 5"
   ]
  },
  {
   "cell_type": "markdown",
   "metadata": {},
   "source": [
    "To do this, we can loop around every single GO term and check their name."
   ]
  },
  {
   "cell_type": "code",
   "execution_count": 19,
   "metadata": {},
   "outputs": [
    {
     "name": "stdout",
     "output_type": "stream",
     "text": [
      "Number of GO terms with \"growth\" in their name: 690\n"
     ]
    }
   ],
   "source": [
    "growth_count = 0\n",
    "for go_term in go.values():\n",
    "    if 'growth' in go_term.name:\n",
    "        growth_count += 1\n",
    "        \n",
    "print('Number of GO terms with \"growth\" in their name: {}'.format(growth_count))"
   ]
  },
  {
   "cell_type": "markdown",
   "metadata": {},
   "source": [
    "#### Question 6\n",
    "What is the deepest common ancestor term of <code>GO:0048527</code> and <code>GO:0097178</code>?"
   ]
  },
  {
   "cell_type": "markdown",
   "metadata": {},
   "source": [
    "#### Answer 6"
   ]
  },
  {
   "cell_type": "markdown",
   "metadata": {},
   "source": [
    "First, we can write a function that finds the common GO terms."
   ]
  },
  {
   "cell_type": "code",
   "execution_count": 20,
   "metadata": {},
   "outputs": [],
   "source": [
    "def common_parent_go_ids(terms, go):\n",
    "    '''\n",
    "        This function finds the common ancestors in the GO \n",
    "        tree of the list of terms in the input.\n",
    "    '''\n",
    "    # Find candidates from first\n",
    "    rec = go[terms[0]]\n",
    "    candidates = rec.get_all_parents()\n",
    "    candidates.update({terms[0]})\n",
    "    \n",
    "    # Find intersection with second to nth term\n",
    "    for term in terms[1:]:\n",
    "        rec = go[term]\n",
    "        parents = rec.get_all_parents()\n",
    "        parents.update({term})\n",
    "        \n",
    "        # Find the intersection with the candidates, and update.\n",
    "        candidates.intersection_update(parents)\n",
    "        \n",
    "    return candidates"
   ]
  },
  {
   "cell_type": "markdown",
   "metadata": {},
   "source": [
    "Then we can define the deepest common ancestor of two terms, as follows:"
   ]
  },
  {
   "cell_type": "code",
   "execution_count": 21,
   "metadata": {},
   "outputs": [],
   "source": [
    "def deepest_common_ancestor(terms, go):\n",
    "    '''\n",
    "        This function gets the nearest common ancestor \n",
    "        using the above function.\n",
    "        Only returns single most specific - assumes unique exists.\n",
    "    '''\n",
    "    # Take the element at maximum depth. \n",
    "    return max(common_parent_go_ids(terms, go), key=lambda t: go[t].depth)"
   ]
  },
  {
   "cell_type": "markdown",
   "metadata": {},
   "source": [
    "Then we can find the deepest common ancestor of the two terms in question. "
   ]
  },
  {
   "cell_type": "code",
   "execution_count": 22,
   "metadata": {},
   "outputs": [],
   "source": [
    "go_id1 = 'GO:0097178'\n",
    "go_id_id1_dca = deepest_common_ancestor([go_id, go_id1], go)"
   ]
  },
  {
   "cell_type": "code",
   "execution_count": 23,
   "metadata": {},
   "outputs": [
    {
     "name": "stdout",
     "output_type": "stream",
     "text": [
      "The nearest common ancestor of\n",
      "\tGO:0048527 (lateral root development)\n",
      "and\n",
      "\tGO:0097178 (ruffle assembly)\n",
      "is\n",
      "\tGO:0008150 (biological_process)\n"
     ]
    }
   ],
   "source": [
    "print('The nearest common ancestor of\\n\\t{} ({})\\nand\\n\\t{} ({})\\nis\\n\\t{} ({})'\n",
    "      .format(go_id, go[go_id].name, \n",
    "              go_id1, go[go_id1].name,\n",
    "              go_id_id1_dca, go[go_id_id1_dca].name))"
   ]
  },
  {
   "cell_type": "markdown",
   "metadata": {},
   "source": [
    "\n",
    "Using the <code>get_term()</code> function, listed below, answer the following questions.\n",
    "\n",
    "*Note*: the <code>get_oboxml()</code> function listed in the chapter, in Source Code 2.1, will no longer work. This is due to an API overhaul of the EMBL-EBI's QuickGO browser.\n",
    "\n",
    "For the interested reader, it is also possible to use the <a href=\"https://github.com/cokelaer/bioservices\"><code>bioservices</code> library</a>, in order to retrieve information from QuickGO (as well as many other web services)."
   ]
  },
  {
   "cell_type": "code",
   "execution_count": 24,
   "metadata": {},
   "outputs": [],
   "source": [
    "from future.standard_library import install_aliases\n",
    "install_aliases()\n",
    "from urllib.request import urlopen\n",
    "import json\n",
    "\n",
    "def get_term(go_id):\n",
    "    \"\"\"\n",
    "        This function retrieves the definition of a given Gene Ontology term,\n",
    "        using EMBL-EBI's QuickGO browser.\n",
    "        Input: go_id - a valid Gene Ontology ID, e.g. GO:0048527.\n",
    "    \"\"\"\n",
    "    quickgo_url = \"https://www.ebi.ac.uk/QuickGO/services/ontology/go/terms/\" + go_id\n",
    "    ret = urlopen(quickgo_url)\n",
    "    \n",
    "    # Check the response\n",
    "    if(ret.getcode() == 200):\n",
    "        term = json.loads(ret.read())\n",
    "        return term['results'][0]\n",
    "    else:\n",
    "        raise ValueError(\"Couldn't receive information from QuickGO. Check GO ID and try again.\")"
   ]
  },
  {
   "cell_type": "markdown",
   "metadata": {},
   "source": [
    "#### Question 7 \n",
    "Find the name and description of the GO term <code>GO:0048527</code>. _Hint_: print out the dictionary returned by the function and study its structure."
   ]
  },
  {
   "cell_type": "markdown",
   "metadata": {},
   "source": [
    "#### Answer 7\n",
    "First, let's get the term information."
   ]
  },
  {
   "cell_type": "code",
   "execution_count": 25,
   "metadata": {},
   "outputs": [],
   "source": [
    "term = get_term(go_id)"
   ]
  },
  {
   "cell_type": "markdown",
   "metadata": {},
   "source": [
    "It might be useful to study the structure of this dictionary, in order to answer this question."
   ]
  },
  {
   "cell_type": "code",
   "execution_count": null,
   "metadata": {},
   "outputs": [],
   "source": [
    "term"
   ]
  },
  {
   "cell_type": "markdown",
   "metadata": {},
   "source": [
    "Now we can extract the relevant data."
   ]
  },
  {
   "cell_type": "code",
   "execution_count": null,
   "metadata": {},
   "outputs": [],
   "source": [
    "print('Description of {} is:\\n\\t{}'.format(go_id, term['definition']['text']))"
   ]
  },
  {
   "cell_type": "markdown",
   "metadata": {},
   "source": [
    "#### Question 8\n",
    "Look at the difference in the OBO-XML output for the GO terms <code>GO:00048527</code> and <code>GO:0097178</code>, then generate a table of the synonymous relationships of the term <code>GO:0097178</code>."
   ]
  },
  {
   "cell_type": "markdown",
   "metadata": {},
   "source": [
    "#### Answer 8"
   ]
  },
  {
   "cell_type": "markdown",
   "metadata": {},
   "source": [
    "Firstly, generate the OBO-XML dictionary for this new term."
   ]
  },
  {
   "cell_type": "code",
   "execution_count": null,
   "metadata": {},
   "outputs": [],
   "source": [
    "term1 = get_term(go_id1)"
   ]
  },
  {
   "cell_type": "markdown",
   "metadata": {},
   "source": [
    "We can then extract the synonyms as follows."
   ]
  },
  {
   "cell_type": "code",
   "execution_count": null,
   "metadata": {},
   "outputs": [],
   "source": [
    "term1"
   ]
  },
  {
   "cell_type": "code",
   "execution_count": null,
   "metadata": {},
   "outputs": [],
   "source": [
    "term1['synonyms']"
   ]
  },
  {
   "cell_type": "code",
   "execution_count": null,
   "metadata": {},
   "outputs": [],
   "source": [
    "synonyms = term1['synonyms']\n",
    "print(synonyms)"
   ]
  },
  {
   "cell_type": "markdown",
   "metadata": {},
   "source": [
    "As an example, this can be nicely formatted using the <code>AsciiTable</code> module in the terminaltables package (which you may need to install, as usual\n",
    "```\n",
    "conda install terminaltables\n",
    "```\n",
    "\n",
    ")."
   ]
  },
  {
   "cell_type": "code",
   "execution_count": null,
   "metadata": {},
   "outputs": [],
   "source": [
    "from terminaltables import AsciiTable\n",
    "\n",
    "# Initialise table data and set header\n",
    "table_data = [['Type', 'Synonym']]\n",
    "for synonym in synonyms:\n",
    "    table_data.append([synonym['type'], synonym['name']])\n",
    "print(AsciiTable(table_data).table)"
   ]
  },
  {
   "cell_type": "markdown",
   "metadata": {},
   "source": [
    "## Retrieving GO annotations\n",
    "\n",
    "In this section we will look at how to manipulate the Gene Association File (GAF) standard, using a parser from the BioPython package."
   ]
  },
  {
   "cell_type": "code",
   "execution_count": null,
   "metadata": {},
   "outputs": [],
   "source": [
    "import Bio.UniProt.GOA as GOA"
   ]
  },
  {
   "cell_type": "markdown",
   "metadata": {},
   "source": [
    "First we need to download a GAF file from the EBI FTP website, which hosts the current and all previous UniProt-GOA annotations. The links to these can be found on the <a href=\"https://www.ebi.ac.uk/GOA/downloads\">EBI GOA Downloads page</a>. "
   ]
  },
  {
   "cell_type": "markdown",
   "metadata": {},
   "source": [
    "As an example, we are going to download the reduced GAF file containing gene association data for *Arabidopsis Thaliana*.\n",
    "Have a look at the file by using, in the terminal,\n",
    "```\n",
    "gunzip goa_arabidopsis.gaf.gz \n",
    "less goa_arabidopsis.gaf\n",
    "```\n",
    "to understand its contents."
   ]
  },
  {
   "cell_type": "code",
   "execution_count": null,
   "metadata": {},
   "outputs": [],
   "source": [
    "import os\n",
    "from ftplib import FTP\n",
    "arab_uri = '/pub/databases/GO/goa/ARABIDOPSIS/goa_arabidopsis.gaf.gz'\n",
    "arab_fn = arab_uri.split('/')[-1]\n",
    "\n",
    "# Check if the file exists already\n",
    "#\n",
    "# Note (JVF): be careful deleting the gaf file, as the GOATOOLS work at the time of adapting this document\n",
    "#             with gaf version 2.1, while current version is 2.2. In case you mistakenly delete it and\n",
    "#             re-download a version of the gaf file that is newer than 2.1, simply \n",
    "#             1) gunzip the gaf file in the terminal\n",
    "#             2) edit and change the gaf version from 2.2 (or above, eventually) to 2.1 at the head of the gaf file\n",
    "#             3) gzip it again and leave it in the ./data directory\n",
    "#\n",
    "arab_gaf = os.path.join(data_folder, arab_fn)\n",
    "if(not os.path.isfile(arab_gaf)):\n",
    "    # Login to FTP server\n",
    "    ebi_ftp = FTP('ftp.ebi.ac.uk')\n",
    "    ebi_ftp.login() # Logs in anonymously\n",
    "    \n",
    "    # Download\n",
    "    with open(arab_gaf,'wb') as arab_fp:\n",
    "        ebi_ftp.retrbinary('RETR {}'.format(arab_uri), arab_fp.write)\n",
    "        \n",
    "    # Logout from FTP server\n",
    "    ebi_ftp.quit()"
   ]
  },
  {
   "cell_type": "markdown",
   "metadata": {},
   "source": [
    "Now we can load all the annotations into a dictionary, using the iterator from the BioPython package (<code>Bio.UniProt.GOA.gafiterator</code>)."
   ]
  },
  {
   "cell_type": "code",
   "execution_count": null,
   "metadata": {},
   "outputs": [],
   "source": [
    "import gzip\n",
    "\n",
    "# File is a gunzip file, so we need to open it in this way\n",
    "with gzip.open(arab_gaf, 'rt') as arab_gaf_fp:\n",
    "    arab_funcs = {}  # Initialise the dictionary of functions\n",
    "    \n",
    "    # Iterate on each function using Bio.UniProt.GOA library.\n",
    "    for entry in GOA.gafiterator(arab_gaf_fp):\n",
    "        uniprot_id = entry.pop('DB_Object_ID')\n",
    "        arab_funcs[uniprot_id] = entry"
   ]
  },
  {
   "cell_type": "markdown",
   "metadata": {},
   "source": [
    "Now we have a structure of the annotations which can manipulated. Each of the entries have been loaded in the following form.\n"
   ]
  },
  {
   "cell_type": "code",
   "execution_count": null,
   "metadata": {},
   "outputs": [],
   "source": [
    "print(arab_funcs[list(arab_funcs.keys())[0]])"
   ]
  },
  {
   "cell_type": "markdown",
   "metadata": {},
   "source": [
    "#### Question 9\n",
    "Find the total number of annotations for Arabidopsis thaliana with <code>NOT</code> qualifiers. What is this as a percentage of the total number of annotations for this species?"
   ]
  },
  {
   "cell_type": "markdown",
   "metadata": {},
   "source": [
    "#### Answer 9"
   ]
  },
  {
   "cell_type": "markdown",
   "metadata": {},
   "source": [
    "This is possible by looping through each of the values and checking whether <code>NOT</code> is listed as one of the qualifiers.\n",
    "\n",
    "Even though here it doesn't make a difference if we check either\n",
    "\n",
    "<code>if 'NOT' in func['Qualifier']</code>\n",
    "\n",
    "or\n",
    "\n",
    "<code>if 'NOT' in func['Qualifier'][0]</code>\n",
    "\n",
    "the first is preferred. This is because there can be multiple qualifiers for a given annotation."
   ]
  },
  {
   "cell_type": "code",
   "execution_count": null,
   "metadata": {},
   "outputs": [],
   "source": [
    "not_count = 0\n",
    "total_count = len(arab_funcs)\n",
    "for func in arab_funcs.values():\n",
    "    if 'NOT' in func['Qualifier']:\n",
    "        not_count += 1\n",
    "        \n",
    "\n",
    "print('Total count of NOT qualifiers: {} ({}%)'.format(not_count, round(((float(not_count)/float(total_count))*100),2)))\n",
    "print('Total number of annotations: {}'.format(total_count))"
   ]
  },
  {
   "cell_type": "markdown",
   "metadata": {},
   "source": [
    "#### Question 10\n",
    "How many genes (of _Arabidopsis thaliana_) have the annotation <code>GO:0048527</code>?"
   ]
  },
  {
   "cell_type": "markdown",
   "metadata": {},
   "source": [
    "#### Answer 10"
   ]
  },
  {
   "cell_type": "markdown",
   "metadata": {},
   "source": [
    "This is done by checking each annotation if its <code>GO_ID</code> entry is equal to the required term's ID.\n",
    "\n",
    "Further, here there has been a check on the taxonomic ID. This isn't strictly necessary, but would be required if the annotations database contained multiple species."
   ]
  },
  {
   "cell_type": "code",
   "execution_count": null,
   "metadata": {},
   "outputs": [],
   "source": [
    "arab_tax_id = 3702  # This isn't necessary here, but would be with the full data set.\n",
    "\n",
    "annot_count = 0\n",
    "counted_gene = []\n",
    "for uniprot_id in arab_funcs:\n",
    "    if('taxon:' + str(arab_tax_id) in arab_funcs[uniprot_id]['Taxon_ID']):\n",
    "        if((arab_funcs[uniprot_id]['GO_ID'] == go_id)):\n",
    "            counted_gene.append(uniprot_id)\n",
    "            annot_count += 1\n",
    "del counted_gene"
   ]
  },
  {
   "cell_type": "markdown",
   "metadata": {},
   "source": [
    "We can now find the number of genes:"
   ]
  },
  {
   "cell_type": "code",
   "execution_count": null,
   "metadata": {},
   "outputs": [],
   "source": [
    "print(annot_count)"
   ]
  },
  {
   "cell_type": "markdown",
   "metadata": {},
   "source": [
    "#### Question 11\n",
    "Generate a list of annotated proteins which have the word _“growth”_ in their name."
   ]
  },
  {
   "cell_type": "markdown",
   "metadata": {},
   "source": [
    "#### Answer 11"
   ]
  },
  {
   "cell_type": "markdown",
   "metadata": {},
   "source": [
    "This can be generated in the following way, checking each annotation's <code>DB_Object_Name</code> field for the keyword."
   ]
  },
  {
   "cell_type": "code",
   "execution_count": null,
   "metadata": {},
   "outputs": [],
   "source": [
    "keyword = 'growth'\n",
    "growth_dict = {x: arab_funcs[x]\n",
    "               for x in arab_funcs \n",
    "               if keyword in arab_funcs[x]['DB_Object_Name']}"
   ]
  },
  {
   "cell_type": "code",
   "execution_count": null,
   "metadata": {},
   "outputs": [],
   "source": [
    "print('UniProt IDs of annotations with \"growth\" in their name:')\n",
    "for annot in growth_dict:\n",
    "    print(\"\\t - \" + annot)\n",
    "print(\"Total: {}\".format(len(growth_dict)))"
   ]
  },
  {
   "cell_type": "markdown",
   "metadata": {},
   "source": [
    "#### Question 12\n",
    "There are 21 evidence codes used in the Gene Ontology project. As discussed in Chapter 3, many of these are inferred, either by curators or automatically. Find the counts of each evidence code for in the Arabidopsis thaliana annotation file."
   ]
  },
  {
   "cell_type": "markdown",
   "metadata": {},
   "source": [
    "#### Answer 12"
   ]
  },
  {
   "cell_type": "markdown",
   "metadata": {},
   "source": [
    "This can be done by looping through each of the annotations, counting each of thier evidence codes and placing them into a dictionary."
   ]
  },
  {
   "cell_type": "code",
   "execution_count": null,
   "metadata": {},
   "outputs": [],
   "source": [
    "evidence_count = {}\n",
    "for annotation in arab_funcs:\n",
    "    evidence = arab_funcs[annotation]['Evidence']\n",
    "    \n",
    "    if(evidence not in evidence_count):\n",
    "        evidence_count[evidence] = 1\n",
    "    else:\n",
    "        evidence_count[evidence] += 1"
   ]
  },
  {
   "cell_type": "markdown",
   "metadata": {},
   "source": [
    "The counts are then:"
   ]
  },
  {
   "cell_type": "code",
   "execution_count": null,
   "metadata": {},
   "outputs": [],
   "source": [
    "table_data = [['Evidence Code', 'Count']]\n",
    "for code in sorted(evidence_count.keys()):\n",
    "    table_data.append([code, str(evidence_count[code])])\n",
    "print(AsciiTable(table_data).table)"
   ]
  },
  {
   "cell_type": "markdown",
   "metadata": {},
   "source": [
    "(All others are zero.)"
   ]
  },
  {
   "cell_type": "markdown",
   "metadata": {},
   "source": [
    "#### Question 13\n",
    "To help visualise the counts of each evidence code found in the previous question, produce a pie chart showing the proportion of annotations with each evidence code for the *Arabidopsis thaliana* annotations dataset."
   ]
  },
  {
   "cell_type": "markdown",
   "metadata": {},
   "source": [
    "#### Answer 13"
   ]
  },
  {
   "cell_type": "markdown",
   "metadata": {},
   "source": [
    "In order to draw the pie chart, we need to convert the counts into percentages."
   ]
  },
  {
   "cell_type": "code",
   "execution_count": null,
   "metadata": {},
   "outputs": [],
   "source": [
    "evidence_percent = {}\n",
    "for code in evidence_count:\n",
    "        evidence_percent[code] = ((float(evidence_count[code]) /\n",
    "                                   float(total_count))\n",
    "                                  *100)"
   ]
  },
  {
   "cell_type": "markdown",
   "metadata": {},
   "source": [
    "Now we can have a look at the counts and percentages for each evidence code."
   ]
  },
  {
   "cell_type": "code",
   "execution_count": null,
   "metadata": {},
   "outputs": [],
   "source": [
    "table_data = [['Evidence Code', 'Count', 'Percentage (%)']]\n",
    "for code in sorted(evidence_count.keys()):\n",
    "    table_data.append([code, str(evidence_count[code]), str(round(evidence_percent[code],2))])\n",
    "print(AsciiTable(table_data).table)"
   ]
  },
  {
   "cell_type": "markdown",
   "metadata": {},
   "source": [
    "Now we are going to plot this information as a pie chart, in order to better visualise the lack of experimental evidence."
   ]
  },
  {
   "cell_type": "code",
   "execution_count": null,
   "metadata": {},
   "outputs": [],
   "source": [
    "# Declare matplotlib as inline and import pyplot\n",
    "%matplotlib inline\n",
    "from matplotlib import pyplot\n",
    "\n",
    "# Setup the figure\n",
    "fig = pyplot.figure(1, figsize=(8,8), dpi=96)\n",
    "ax=fig.add_axes([0.1,0.1,0.8,0.8])\n",
    "\n",
    "# Extract the lables / percentages\n",
    "labels = evidence_percent.keys()\n",
    "fracs = evidence_percent.values()\n",
    "\n",
    "# Make IEA obvious by \"exploding\" it\n",
    "explode = [int('IEA' in x)*0.1 for x in labels]\n",
    "\n",
    "# Plot the pie chart\n",
    "patches, texts = ax.pie(list(fracs), explode=explode, startangle=90, labeldistance=1.1) \n",
    "\n",
    "# Add \n",
    "ax.legend(patches, labels, bbox_to_anchor=(1.2, 0.75), fontsize=12)\n",
    "pyplot.show()"
   ]
  }
 ],
 "metadata": {
  "kernelspec": {
   "display_name": "Python 3",
   "language": "python",
   "name": "python3"
  },
  "language_info": {
   "codemirror_mode": {
    "name": "ipython",
    "version": 3
   },
   "file_extension": ".py",
   "mimetype": "text/x-python",
   "name": "python",
   "nbconvert_exporter": "python",
   "pygments_lexer": "ipython3",
   "version": "3.8.5"
  }
 },
 "nbformat": 4,
 "nbformat_minor": 1
}
