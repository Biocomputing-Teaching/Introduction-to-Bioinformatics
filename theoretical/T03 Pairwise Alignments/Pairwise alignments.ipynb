{
 "cells": [
  {
   "cell_type": "markdown",
   "metadata": {},
   "source": [
    "## Pairwise alignments\n",
    "\n",
    "Pairwise Sequence Alignment is a process in which two sequences are compared at a time and the best possible sequence alignment is provided. Pairwise sequence alignment uses a dynamic programming algorithm. Biopython has a special module `Bio.pairwise2` which identifies the alignment sequence using pairwise method. Biopython provides the best algorithm to find alignment sequence as compared to other software.\n",
    "\n",
    "Let’s take two simple and hypothetical sequences as an example for using pairwise module."
   ]
  },
  {
   "cell_type": "code",
   "execution_count": 5,
   "metadata": {},
   "outputs": [
    {
     "name": "stdout",
     "output_type": "stream",
     "text": [
      "('--TGTGACT-A', 'CATG-G--TCA', 5.0, 0, 11)\n",
      "('--TGTGA-CTA', 'CATG-G-TC-A', 5.0, 0, 11)\n",
      "('--TGTGACTA', 'CATG-GTC-A', 5.0, 0, 10)\n",
      "('--TG-TGACTA', 'CATGGT--C-A', 5.0, 0, 11)\n",
      "('--T-GTGACTA', 'CATGGT--C-A', 5.0, 0, 11)\n"
     ]
    }
   ],
   "source": [
    "# Import libraries \n",
    "from Bio import pairwise2 \n",
    "from Bio.Seq import Seq \n",
    "  \n",
    "# Creating sample sequences \n",
    "seq1 = Seq(\"TGTGACTA\") \n",
    "seq2 = Seq(\"CATGGTCA\") \n",
    "  \n",
    "# Finding similarities \n",
    "alignments = pairwise2.align.globalxx(seq1, seq2) \n",
    "  \n",
    "# Showing results \n",
    "for match in alignments: \n",
    "    print(match) "
   ]
  },
  {
   "cell_type": "markdown",
   "metadata": {},
   "source": [
    "Here, the `globalxx` method does the main work, it follows the convention `<alignment type>XX` where `XX` is a code having two characters indicating the parameters it takes. First character indicates the matching and mismatching score while the second indicates the parameter for the gap penalty.\n",
    "\n",
    "Match parameters :\n",
    "\n",
    "|Code Character |\tDescription|\n",
    "|:---:|:---:|\n",
    "|x|\tNo parameters. Identical character has score of 1, else 0.|\n",
    "|m|\tmatch score of identical chars, else mismatch score.|\n",
    "|d|\tdictionary returning scores of any pair of characters.|\n",
    "|c|\tA callback function returns scores.|\n",
    "\n",
    "gap penalty parameters :\n",
    "\n",
    "|Code Character|\tDescription|\n",
    "|:---:|:---:|\n",
    "|x|\tNo gap penalties.|\n",
    "|s|\tboth sequences having same open and extend gap penalty.|\n",
    "|d|\tsequences having different open and extend gap penalty.|\n",
    "|c\t|A callback function returns the gap penalties.|"
   ]
  },
  {
   "cell_type": "code",
   "execution_count": 6,
   "metadata": {},
   "outputs": [
    {
     "name": "stdout",
     "output_type": "stream",
     "text": [
      "--TGTGACT-A\n",
      "  || |  | |\n",
      "CATG-G--TCA\n",
      "  Score=5\n",
      "\n",
      "--TGTGA-CTA\n",
      "  || |  | |\n",
      "CATG-G-TC-A\n",
      "  Score=5\n",
      "\n",
      "--TGTGACTA\n",
      "  || |.| |\n",
      "CATG-GTC-A\n",
      "  Score=5\n",
      "\n",
      "--TG-TGACTA\n",
      "  || |  | |\n",
      "CATGGT--C-A\n",
      "  Score=5\n",
      "\n",
      "--T-GTGACTA\n",
      "  | ||  | |\n",
      "CATGGT--C-A\n",
      "  Score=5\n",
      "\n"
     ]
    }
   ],
   "source": [
    "# if you want a nicer format, you can use the format_alignment() method\n",
    "from Bio.pairwise2 import format_alignment \n",
    "\n",
    "for alignment in alignments: \n",
    "    print(format_alignment(*alignment)) "
   ]
  },
  {
   "cell_type": "markdown",
   "metadata": {},
   "source": [
    "Sources of information:\n",
    "* [Biopython - Pairwise alignment](https://www.geeksforgeeks.org/biopython-pairwise-alignment/)\n",
    "\n",
    "Check also:\n",
    "* The [Pairwise alignment chapter](http://readiab.org/book/0.1.3/2/1) in [An Introduction to Applied Bioinformatics](https://github.com/applied-bioinformatics/An-Introduction-To-Applied-Bioinformatics)"
   ]
  },
  {
   "cell_type": "code",
   "execution_count": null,
   "metadata": {},
   "outputs": [],
   "source": []
  }
 ],
 "metadata": {
  "kernelspec": {
   "display_name": "Python 3",
   "language": "python",
   "name": "python3"
  },
  "language_info": {
   "codemirror_mode": {
    "name": "ipython",
    "version": 3
   },
   "file_extension": ".py",
   "mimetype": "text/x-python",
   "name": "python",
   "nbconvert_exporter": "python",
   "pygments_lexer": "ipython3",
   "version": "3.7.6"
  }
 },
 "nbformat": 4,
 "nbformat_minor": 4
}
