{
 "cells": [
  {
   "cell_type": "markdown",
   "metadata": {},
   "source": [
    "## T1 Some initial tips to access Databases with Python/Biopython\n",
    "\n",
    "(we strongly recommend to spend some time playing around Python in other contexts aswell ([\"A\" tutorial](https://github.com/Biocomputing-Teaching/Learning-Python-for-Biocomputing/blob/main/BasicPythonIntro.ipynb)).\n",
    "\n",
    "To run these examples you need to have previously installed `Biopython`. To do so, in your command line run\n",
    "```\n",
    "conda install -c conda-forge biopython\n",
    "```\n",
    "\n",
    "Once installed, you are ready to follow this lesson.\n",
    "\n",
    "Defining a simple sequence in python. Here, a sequence is a `string`"
   ]
  },
  {
   "cell_type": "code",
   "execution_count": null,
   "metadata": {},
   "outputs": [],
   "source": [
    "my_seq = \"AGTACACTGGT\"\n",
    "print(my_seq)\n",
    "type(my_seq)"
   ]
  },
  {
   "cell_type": "markdown",
   "metadata": {},
   "source": [
    "Dealing with strings is a regular job in Python, but here we want to take profit of another type of object, the `Seq` object from the `Biopython` library. This library is extremely useful for many Bioinformatics tasks and we will make extensive use of it during the course. Let us have a look at how it does some simple jobs. Firs, let us create a `Seq` object:"
   ]
  },
  {
   "cell_type": "code",
   "execution_count": null,
   "metadata": {},
   "outputs": [],
   "source": [
    "from Bio.Seq import Seq\n",
    "my_seq = Seq(\"AGTACACTGGT\")\n",
    "print(my_seq)\n",
    "type(my_seq)"
   ]
  },
  {
   "cell_type": "markdown",
   "metadata": {},
   "source": [
    "The `Seq` object differs from the Python string in the methods it supports. You can’t do the following statements with a plain string:"
   ]
  },
  {
   "cell_type": "code",
   "execution_count": null,
   "metadata": {},
   "outputs": [],
   "source": [
    "my_seq.complement()"
   ]
  },
  {
   "cell_type": "code",
   "execution_count": null,
   "metadata": {},
   "outputs": [],
   "source": [
    "my_seq.reverse_complement()"
   ]
  },
  {
   "cell_type": "markdown",
   "metadata": {},
   "source": [
    "Now, let us read a string from a file"
   ]
  },
  {
   "cell_type": "code",
   "execution_count": null,
   "metadata": {},
   "outputs": [],
   "source": [
    "myfile= open (\"cftr.fa\", \"r\")\n",
    "data=myfile.readlines()\n",
    "print(data)\n",
    "myfile.close()\n",
    "type(data)"
   ]
  },
  {
   "cell_type": "markdown",
   "metadata": {},
   "source": [
    "hmmmm, not entirely satisfactory. The instruction reads all lines, yes, but puts the results in a list format. I really want a single string with all the info. One option is to delete the \"\\n\" symbols that define the end of lines:"
   ]
  },
  {
   "cell_type": "code",
   "execution_count": null,
   "metadata": {},
   "outputs": [],
   "source": [
    "myfile= open (\"cftr.fa\", \"r\")\n",
    "data = myfile.read().replace('\\n', '')\n",
    "print(data)\n",
    "myfile.close()\n",
    "type(data)"
   ]
  },
  {
   "cell_type": "markdown",
   "metadata": {},
   "source": [
    "this is much nicer, and it creates a string object with all the info. Unfortunately, if I want to make sense of the informatoon, I need to do much more. So, it is better to rely in BioPython again"
   ]
  },
  {
   "cell_type": "code",
   "execution_count": null,
   "metadata": {},
   "outputs": [],
   "source": [
    "from Bio import SeqIO\n",
    "for seq_record in SeqIO.parse(\"cftr.fa\", \"fasta\"):\n",
    "    print(seq_record.id)\n",
    "    print(repr(seq_record.seq))\n",
    "    print(len(seq_record))\n",
    "type(seq_record)"
   ]
  },
  {
   "cell_type": "markdown",
   "metadata": {},
   "source": [
    "This is much, much better. I just read a file in fasta format and Biopython did everthing I needed for me.\n",
    "Now, the next step is trying to download directly a sequence from the NCBI database instead of having it already in my disk. To do sso, I have to call the server:"
   ]
  },
  {
   "cell_type": "code",
   "execution_count": null,
   "metadata": {},
   "outputs": [],
   "source": [
    "from Bio import Entrez\n",
    "Entrez.email = \"jvilla@uic.cat\"  # Always tell NCBI who you are\n",
    "handle = Entrez.efetch(db=\"protein\", id=\"NP_000483.3\", rettype=\"fasta\", retmode=\"text\")\n",
    "print(handle.read())\n",
    "type(handle)"
   ]
  },
  {
   "cell_type": "markdown",
   "metadata": {},
   "source": [
    "It is better to save the file with the sequence information to avoid repeting access to the NCBI servers."
   ]
  },
  {
   "cell_type": "code",
   "execution_count": null,
   "metadata": {},
   "outputs": [],
   "source": [
    "protID = \"NP_000483.3\"\n",
    "handle = Entrez.efetch(db=\"protein\", id=protID, rettype=\"gb\", retmode=\"text\")\n",
    "\n",
    "filename = protID+\".fa\"\n",
    "out_handle = open(filename, \"w\")\n",
    "out_handle.write(handle.read())\n",
    "out_handle.close()\n",
    "handle.close()\n",
    "print(\"Info Saved\")"
   ]
  },
  {
   "cell_type": "markdown",
   "metadata": {},
   "source": [
    "the cool thing is that you can now parse the whole information contained in the record:"
   ]
  },
  {
   "cell_type": "code",
   "execution_count": null,
   "metadata": {},
   "outputs": [],
   "source": [
    "record = SeqIO.read(filename, \"genbank\")\n",
    "handle.close()\n",
    "dir(record)"
   ]
  },
  {
   "cell_type": "markdown",
   "metadata": {},
   "source": [
    "the `dir()` functions gives you a `list` of possible attributes the `object` record has. Let us see what is in them"
   ]
  },
  {
   "cell_type": "code",
   "execution_count": null,
   "metadata": {},
   "outputs": [],
   "source": [
    "print(record.id)\n",
    "print(record.name)\n",
    "print(record.description)\n",
    "print(len(record.features))\n",
    "record.seq"
   ]
  },
  {
   "cell_type": "markdown",
   "metadata": {},
   "source": [
    "# working with PDB files\n",
    "\n",
    "`Biopython`, and in particular `BioPDB`, provides a convenient way to deal with biomolecular structures that are deposited in the Protein data Bank. Here is a very short primer to get started. Check the [Biopython tutorial](http://biopython.org/DIST/docs/tutorial/Tutorial.html) to learn more."
   ]
  },
  {
   "cell_type": "code",
   "execution_count": null,
   "metadata": {},
   "outputs": [],
   "source": [
    "# first, let us download a PDB file\n",
    "import urllib\n",
    "urllib.request.urlretrieve('http://files.rcsb.org/download/6O1V.pdb', '6o1v.pdb')"
   ]
  },
  {
   "cell_type": "code",
   "execution_count": null,
   "metadata": {},
   "outputs": [],
   "source": [
    "# and see how the file can be initially parsed. Much more to come in the upcoming sessions\n",
    "from Bio.PDB.PDBParser import PDBParser as parser\n",
    "parser = PDBParser(PERMISSIVE=1)\n",
    "structure_id = \"6o1v\"\n",
    "filename = \"6o1v.pdb\"\n",
    "structure = parser.get_structure(structure_id, filename)"
   ]
  },
  {
   "cell_type": "code",
   "execution_count": null,
   "metadata": {},
   "outputs": [],
   "source": [
    "resolution = structure.header[\"resolution\"]\n",
    "keywords = structure.header[\"keywords\"]\n",
    "print(resolution)\n",
    "print(keywords)"
   ]
  },
  {
   "cell_type": "markdown",
   "metadata": {},
   "source": [
    "This is all for today!\n",
    "Take home messages:\n",
    "- BioPython allows you to easily process sequence data \n",
    "- you need to understand how to deal with local files"
   ]
  },
  {
   "cell_type": "code",
   "execution_count": null,
   "metadata": {},
   "outputs": [],
   "source": []
  }
 ],
 "metadata": {
  "kernelspec": {
   "display_name": "Python 3",
   "language": "python",
   "name": "python3"
  },
  "language_info": {
   "codemirror_mode": {
    "name": "ipython",
    "version": 3
   },
   "file_extension": ".py",
   "mimetype": "text/x-python",
   "name": "python",
   "nbconvert_exporter": "python",
   "pygments_lexer": "ipython3",
   "version": "3.8.5"
  }
 },
 "nbformat": 4,
 "nbformat_minor": 4
}
