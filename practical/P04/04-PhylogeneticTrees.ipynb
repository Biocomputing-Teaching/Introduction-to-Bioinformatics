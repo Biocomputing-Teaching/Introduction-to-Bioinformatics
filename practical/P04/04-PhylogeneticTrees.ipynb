{
 "cells": [
  {
   "cell_type": "markdown",
   "metadata": {},
   "source": [
    "# Introduction to Bioinformatics\n",
    "\n",
    "## 04 - Pyhlogenetic trees\n",
    "\n",
    "In the third practice session, we learned how to write a Python function that generated multiple sequence alignment (MSA) objects in BioPython's format. These MSA objects are the entry point for most of the methods of evolutionary sequence comparison.\n",
    "\n",
    "This practical session will explore how to generate phylogenetic trees for comparing our sequences. \n",
    "\n",
    "This notebook assumes that you have all the programs installed. If you have not installed them yet, please refer to the preparation instructions that appear in the README.md file in the practical session 04 GitHub's page.\n",
    "\n",
    "### Introduction\n",
    "\n",
    "Phylogenetic trees try to capture the realistic aspects of genomic sequence evolution. They are particular representations that, in molecular biology, depict the evolutionary relationships between a set of homologous sequences based upon similarities and differences in their physical or genetic characteristics. Trees are a type of data structure with a tree design with a group of connected nodes. \n",
    "\n",
    "Some definitions are essential to work with trees (extracted from [http://etetoolkit.org](http://etetoolkit.org/docs/latest/tutorial/tutorial_trees.html#treess)):\n",
    "\n",
    "- A node with a child is called the child's parent node (or ancestor node, or superior). \n",
    "- A node has at most one parent.\n",
    "\n",
    "\n",
    "- The topmost node in a tree is called the root node.\n",
    "- The root node has no parents.\n",
    "- All other nodes can be reached from it by following edges or links.\n",
    "\n",
    "\n",
    "- The height of a node is the length of the longest downward path to a leaf from that node. \n",
    "- The height of the root is the height of the tree.\n",
    "- The depth of a node is the length of the path to its root (i.e., its root path).\n",
    "\n",
    "\n",
    "- Nodes at the bottommost level of the tree are called leaf nodes.\n",
    "- Leaf nodes do not have any children.\n",
    "- An internal node or inner node is any node of a tree with child nodes and is thus not a leaf node.\n",
    "\n",
    "\n",
    "- A subtree is a portion of a tree data structure that can be viewed as a complete tree in itself.\n",
    "- Any node in a tree T, together with all the nodes below it, comprise a subtree of T. \n",
    "\n",
    "In bioinformatics, trees are the result of many analyses, such as phylogenetics or clustering. ETE is a python toolkit that assists in the automated manipulation, analysis, and visualization of any hierarchical trees. It provides general methods to handle and visualize tree topologies and specific modules to deal with phylogenetic and clustering trees.\n",
    "\n",
    "### Building a Phylogenetic Tree from a multiple sequence fasta file\n",
    "\n",
    "We will use the command-line and Python Application Programming Interface (API) of the ETE library to work with Tree constructions and visualizations, respectively.\n",
    "\n",
    "We will use as an example our previous 20 cluster-center sequences for the 2-hydroxymuconate tautomerase enzyme. The ETE command line program has workflows for all the steps in constructing a Phylogenetic Tree from a fasta file. We start from an unaligned fasta file containing our sequences (in the input directory). We execute:\n",
    "\n",
    "```ete3 build -w standard_raxml -a input/2HDXMT_clusters.fasta -o output_tree```\n",
    "\n",
    "### Accessing Tree information with the Python library ete3\n",
    "\n",
    "The previous command created a directory called output_tree, in which it saved all the output produced by the tree construction. We can now import particular objects from the ete3 library to start accessing the tree data: "
   ]
  },
  {
   "cell_type": "code",
   "execution_count": null,
   "metadata": {},
   "outputs": [],
   "source": [
    "from ete3 import Tree, TreeStyle, TextFace, NodeStyle"
   ]
  },
  {
   "cell_type": "markdown",
   "metadata": {},
   "source": [
    "We will parse the calculated phylogenetic tree data from a [Newick-format](https://en.wikipedia.org/wiki/Newick_format#:~:text=In%20mathematics%2C%20Newick%20tree%20format,Maddison%2C%20Christopher%20Meacham%2C%20F.) file. First, we print the content of this file:"
   ]
  },
  {
   "cell_type": "code",
   "execution_count": null,
   "metadata": {},
   "outputs": [],
   "source": [
    "tree_file = 'output_tree/clustalo_default-none-none-raxml_default/2HDXMT_clusters.fasta.final_tree.nw'\n",
    "\n",
    "#  The output is stored in one line\n",
    "with open(tree_file) as tf:\n",
    "    for l in tf:\n",
    "        print(l)\n",
    "        print()"
   ]
  },
  {
   "cell_type": "markdown",
   "metadata": {},
   "source": [
    "We observe that the tree nodes are positioned inside different parentheses with the node names and the edge distances. It is better to load this information into the ETE library's Python API to help us build more valuable visualizations from this data. \n",
    "\n",
    "We start by loading the same file as a Tree object within the ete3 Python library:"
   ]
  },
  {
   "cell_type": "code",
   "execution_count": null,
   "metadata": {},
   "outputs": [],
   "source": [
    "# Load a tree structure from a newick file.\n",
    "t = Tree(tree_file)\n",
    "print(t)"
   ]
  },
  {
   "cell_type": "markdown",
   "metadata": {},
   "source": [
    "When we call print upon the Tree object, it displays an ASCII cartoon of how our Tree looks. However, the ASCII visualization does not show the correct edge distances from each tree node. \n",
    "\n",
    "We can see the documentation of the Tree() function output to know more about the methods and attributes inside it:"
   ]
  },
  {
   "cell_type": "code",
   "execution_count": null,
   "metadata": {},
   "outputs": [],
   "source": [
    "print(type(t))\n",
    "help(t)"
   ]
  },
  {
   "cell_type": "markdown",
   "metadata": {},
   "source": [
    "The TreeNode object is the output of the function that parses the Newick format file. This object is how the ETE library represents trees and their information. We can access all the tree information from this object. For example, we can select a specif leaf node in the tree:"
   ]
  },
  {
   "cell_type": "code",
   "execution_count": null,
   "metadata": {},
   "outputs": [],
   "source": [
    "# We can select specific nodes by name\n",
    "A = t.search_nodes(name=\"tr|A0A135L6Q7|A0A135L6Q7_9BACI\")[0]\n",
    "print(type(A))\n",
    "print(A)"
   ]
  },
  {
   "cell_type": "markdown",
   "metadata": {},
   "source": [
    "Note that each node in the TreeNode (even leaves) is also a TreeNode instance. This choice entails the fact that each node can be treated as a subtree of our tree. The TreeNode method can be iterated to access all the leaves in it:"
   ]
  },
  {
   "cell_type": "code",
   "execution_count": null,
   "metadata": {
    "scrolled": true
   },
   "outputs": [],
   "source": [
    "# Iterate leafs inside the tree\n",
    "for l in t:\n",
    "    print(l)\n",
    "    print(l.name)\n",
    "    print()"
   ]
  },
  {
   "cell_type": "markdown",
   "metadata": {},
   "source": [
    "The names of the leaves are the first part of the descriptions in our fasta file. We can change this from directly in the TreeNode objects representing each leaf. Let's rename each leaf node name to the UniProt ID only:"
   ]
  },
  {
   "cell_type": "code",
   "execution_count": null,
   "metadata": {},
   "outputs": [],
   "source": [
    "# The default Tree() object iteration is by leafs.\n",
    "t = Tree(tree_file)\n",
    "for x in t:\n",
    "    x.name = x.name.split('|')[1] # Change the name attribute value to the UniProt ID\n",
    "print(t)"
   ]
  },
  {
   "cell_type": "markdown",
   "metadata": {},
   "source": [
    "We see now that the displayed names correspond correctly to the UniProt IDs of our sequences.\n",
    "\n",
    "### Visulizying phylogenetic trees with Python\n",
    "\n",
    "We can create alternative visualizations for our tree depending on our needs. The ETE library offers several ways of displaying trees. Let us try a few of them. \n",
    "\n",
    "Most visualizations will be rendered as image files (they can be written into PNG, PDF, and SVG formats), so we import the Image function from our notebook to display them directly in our Jupyter Notebooks."
   ]
  },
  {
   "cell_type": "code",
   "execution_count": null,
   "metadata": {},
   "outputs": [],
   "source": [
    "from IPython.display import Image"
   ]
  },
  {
   "cell_type": "markdown",
   "metadata": {},
   "source": [
    "Before generating the images of our alternative tree visualizations, we create a folder called \"images\" to store them all. For that, we import the os library, which has methods for creating system folders:"
   ]
  },
  {
   "cell_type": "code",
   "execution_count": null,
   "metadata": {},
   "outputs": [],
   "source": [
    "import os"
   ]
  },
  {
   "cell_type": "code",
   "execution_count": null,
   "metadata": {},
   "outputs": [],
   "source": [
    "# Create a folder called \"images\" if it does not exists\n",
    "if not os.path.exists('images'):\n",
    "    os.mkdir('images')"
   ]
  },
  {
   "cell_type": "markdown",
   "metadata": {},
   "source": [
    "We start with a circular display of our tree. The code below has some commented options that affect how the tree visualization changes. Feel free to uncomment and change them to see how they affect the tree display."
   ]
  },
  {
   "cell_type": "code",
   "execution_count": null,
   "metadata": {},
   "outputs": [],
   "source": [
    "# Display the Tree in a circular style\n",
    "circular_style = TreeStyle()\n",
    "circular_style.mode = \"c\" # draw tree in circular mode\n",
    "\n",
    "# Options | Uncomment to see their effect\n",
    "\n",
    "# circular_style.scale = 20\n",
    "# circular_style.arc_start = 180 # 0 degrees = 3 o'clock\n",
    "# circular_style.arc_span = 180\n",
    "# circular_style.title.add_face(TextFace(\"2-hydroxymuconate tautomerase enzyme Tree\", fsize=10), column=0)\n",
    "\n",
    "td = t.render(\"images/mytree_cs.png\", w=120, units=\"mm\", tree_style=circular_style)\n",
    "Image('images/mytree_cs.png')"
   ]
  },
  {
   "cell_type": "markdown",
   "metadata": {},
   "source": [
    "Now we try the standard tree layout style. "
   ]
  },
  {
   "cell_type": "code",
   "execution_count": null,
   "metadata": {},
   "outputs": [],
   "source": [
    "# Display the Tree in a standard tree style\n",
    "ts = TreeStyle()\n",
    "\n",
    "# Options | Uncomment to see their effect\n",
    "\n",
    "# ts.show_leaf_name = True # Names of the leafs\n",
    "# ts.show_branch_length = True\n",
    "# ts.show_branch_support = True\n",
    "# ts.scale = 100 # Zoom in the Y-axis\n",
    "# ts.rotation = 90\n",
    "# ts.title.add_face(TextFace(\"2-hydroxymuconate tautomerase enzyme Tree\", fsize=10), column=0)\n",
    "\n",
    "td = t.render(\"images/mytree_ts.png\", w=100, units=\"mm\", tree_style=ts)\n",
    "Image('images/mytree_ts.png')"
   ]
  },
  {
   "cell_type": "markdown",
   "metadata": {},
   "source": [
    "We can also change the way the objects representing the tree appear in the tree visualization:"
   ]
  },
  {
   "cell_type": "code",
   "execution_count": null,
   "metadata": {},
   "outputs": [],
   "source": [
    "# Load and change name to leafs.\n",
    "t = Tree(tree_file)\n",
    "for x in t:\n",
    "    x.name = x.name.split('|')[1] # Change the name attribute value\n",
    "    \n",
    "# Draws nodes as small red spheres of diameter equal to 7 pixels\n",
    "nstyle = NodeStyle()\n",
    "nstyle[\"shape\"] = \"sphere\"\n",
    "nstyle[\"size\"] = 7\n",
    "nstyle[\"fgcolor\"] = \"darkred\"\n",
    "\n",
    "# Gray dashed branch lines\n",
    "# nstyle[\"hz_line_type\"] = 1\n",
    "# nstyle[\"hz_line_color\"] = \"#cccccc\"\n",
    "\n",
    "# Applies the same static style to all nodes in the tree. Note that,\n",
    "# if \"nstyle\" is modified, changes will affect to all nodes\n",
    "for n in t.traverse():\n",
    "    n.set_style(nstyle)\n",
    "    \n",
    "# for n in t:\n",
    "#     n.set_style(nstyle)\n",
    "    \n",
    "# Display the Tree in a standard tree style\n",
    "td = t.render(\"images/mytree_ts_rn.png\", w=100, units=\"mm\", tree_style=ts)\n",
    "Image('images/mytree_ts_rn.png')"
   ]
  },
  {
   "cell_type": "markdown",
   "metadata": {},
   "source": [
    "Finally, we explore how to change the background of selected nodes."
   ]
  },
  {
   "cell_type": "code",
   "execution_count": null,
   "metadata": {},
   "outputs": [],
   "source": [
    "# Load and change name to leafs.\n",
    "t = Tree(tree_file)\n",
    "for x in t:\n",
    "    x.name = x.name.split('|')[1] # Change the name attribute value\n",
    "    \n",
    "# Define specific nodes\n",
    "nst1 = NodeStyle()\n",
    "nst1[\"bgcolor\"] = \"LightSteelBlue\"\n",
    "nst2 = NodeStyle()\n",
    "nst2[\"bgcolor\"] = \"Moccasin\"\n",
    "nst3 = NodeStyle()\n",
    "nst3[\"bgcolor\"] = \"DarkSeaGreen\"\n",
    "nst4 = NodeStyle()\n",
    "nst4[\"bgcolor\"] = \"Khaki\"\n",
    "\n",
    "# Change background color to specific node\n",
    "n1 = t.get_common_ancestor(\"P70994\", \"A0A553ZU89\")\n",
    "n1.set_style(nst1)\n",
    "\n",
    "n2 = t.get_common_ancestor(\"J7J0V0\", \"A0A5R8QHJ7\")\n",
    "n2.set_style(nst2)\n",
    "\n",
    "n3 = t.get_leaves_by_name('K6BVQ0')[0]\n",
    "n3.set_style(nst3)\n",
    "\n",
    "n4 = t.get_common_ancestor(\"A0A135L6Q7\", \"A0A430B1P6\")\n",
    "n4.set_style(nst4)\n",
    "\n",
    "td = t.render(\"images/mytree_ts_bgc.png\", w=100, units=\"mm\", tree_style=ts)\n",
    "Image('images/mytree_ts_bgc.png')"
   ]
  },
  {
   "cell_type": "markdown",
   "metadata": {},
   "source": [
    "### Displaying MSA information beside the phylogenetic tree\n",
    "\n",
    "\n",
    "We can visualize MSA information together with our tree display. The MSA provides more detailed information to depict domain composition, sequence alignment, or any other information relevant to contrast with the evolutionary relationship among our homologous sequences. \n",
    "\n",
    "Here we load the phylogenetic tree file with a different class called PhyloTree. This class supports the linkage of multiple sequence alignment for straightforward depiction. "
   ]
  },
  {
   "cell_type": "code",
   "execution_count": null,
   "metadata": {},
   "outputs": [],
   "source": [
    "from ete3 import PhyloTree"
   ]
  },
  {
   "cell_type": "code",
   "execution_count": null,
   "metadata": {},
   "outputs": [],
   "source": [
    "# Define the path to the MSA file\n",
    "alignment_file = 'output_tree/clustalo_default-none-none-raxml_default/2HDXMT_clusters.fasta.final_tree.used_alg.fa'\n",
    "\n",
    "# Load the newick format tree file\n",
    "t = PhyloTree(tree_file)\n",
    "\n",
    "# Link the msa file to the PhyloNode object\n",
    "t.link_to_alignment(alignment=alignment_file, alg_format=\"fasta\")\n",
    "\n",
    "# We change the name of the nodes to the UniProt IDs.\n",
    "for x in t:\n",
    "    x.name = x.name.split('|')[1] # Change the name attribute value\n",
    "\n",
    "# Then we render and display the tree image.\n",
    "td = t.render(\"images/mytree_ts_fasta.png\", w=1000, units=\"mm\")\n",
    "Image('images/mytree_ts_fasta.png')"
   ]
  },
  {
   "cell_type": "markdown",
   "metadata": {},
   "source": [
    "### Working with phylogenetic lineages\n",
    "\n",
    "Often, we need to relate the distances and groupings in the evolutionary tree to taxonomical lineages. The NCBI database has this information in a taxonomical database to access the ETE library directly. However, first, we need to get the species' names for each protein sequence. For this session, we have created a small script (uniprot.py) that contains a function (getOrganism) that retrieves the name of the organism from the UniProt webpage (so you'll need an internet connection). The function depends on the scrapy library, so we should install it before running this function.\n",
    "\n",
    "We import this function and create a dictionary relating the UniProt IDs to the species names:"
   ]
  },
  {
   "cell_type": "code",
   "execution_count": null,
   "metadata": {},
   "outputs": [],
   "source": [
    "from uniprot import getOrganism"
   ]
  },
  {
   "cell_type": "markdown",
   "metadata": {},
   "source": [
    "Now we can annotate the tree using the above function:"
   ]
  },
  {
   "cell_type": "code",
   "execution_count": null,
   "metadata": {},
   "outputs": [],
   "source": [
    "# Collect the list with all the species names for later\n",
    "species = {}\n",
    "\n",
    "# Iterate each leaf and print the node name and the name from the species by calling leaf attributes\n",
    "for n in t.get_leaves():\n",
    "\n",
    "    # Append the species name to the list\n",
    "    species[n.name] = getOrganism(n.name)\n",
    "    \n",
    "print(species)"
   ]
  },
  {
   "cell_type": "markdown",
   "metadata": {},
   "source": [
    "We notice that the species' names are not in the standard binomial nomenclature (genus + specific epithet). Therefore we need to change them by grabbing only the first two words for each entry."
   ]
  },
  {
   "cell_type": "code",
   "execution_count": null,
   "metadata": {},
   "outputs": [],
   "source": [
    "# Print last iteration species\n",
    "print(species[n.name])\n",
    "# Print last iteration species splitted\n",
    "print(species[n.name].split())\n",
    "# Print last iteration species splitted two first items\n",
    "print(species[n.name].split()[:2])\n",
    "# Print last iteration species splitted two first items joined by a space character\n",
    "print(' '.join(species[n.name].split()[:2]))"
   ]
  },
  {
   "cell_type": "code",
   "execution_count": null,
   "metadata": {},
   "outputs": [],
   "source": [
    "# Replace each value by only the two first words of the same value\n",
    "for s in species:\n",
    "    species[s] = ' '.join(species[s].split()[:2])\n",
    "print(species)"
   ]
  },
  {
   "cell_type": "markdown",
   "metadata": {},
   "source": [
    "Now that we have the species names for each of our proteins, we can get the NCBI taxonomic database data. ete3 has a particular class to do this. If this is the first time the class is used, it takes a while to load it since it needs to get all the data from the NCBI database first.\n",
    "\n",
    "We import this class and wait until it finishes to load all the data:"
   ]
  },
  {
   "cell_type": "code",
   "execution_count": null,
   "metadata": {},
   "outputs": [],
   "source": [
    "from ete3 import NCBITaxa"
   ]
  },
  {
   "cell_type": "markdown",
   "metadata": {},
   "source": [
    "The first thing we need to do is to create a dictionary mapping our species names to the taxonomic IDs of the NCBI taxonomic database:"
   ]
  },
  {
   "cell_type": "code",
   "execution_count": null,
   "metadata": {},
   "outputs": [],
   "source": [
    "ncbi = NCBITaxa()\n",
    "name2taxid = ncbi.get_name_translator([*species.values()])"
   ]
  },
  {
   "cell_type": "code",
   "execution_count": null,
   "metadata": {},
   "outputs": [],
   "source": [
    "for k,v in name2taxid.items():\n",
    "    print(k,v)"
   ]
  },
  {
   "cell_type": "markdown",
   "metadata": {},
   "source": [
    "We can use this dictionary to name each node with its corresponding taxonomic ID. Let us define a function to do that:"
   ]
  },
  {
   "cell_type": "code",
   "execution_count": null,
   "metadata": {},
   "outputs": [],
   "source": [
    "# This function is employed to assign a name to each tree leaf\n",
    "def get_species_taxid(node_name):\n",
    "    \n",
    "    # Get the name of the species using the global species dictionary\n",
    "    sp_name = species[node_name]\n",
    "    \n",
    "    # Get the taxid of the species using the global name2taxid dictionary\n",
    "    taxid = name2taxid[sp_name][0]\n",
    "    \n",
    "    return taxid"
   ]
  },
  {
   "cell_type": "markdown",
   "metadata": {},
   "source": [
    "We create a new tree with the PhyloTree class into which we also put the MSA information. We then change the node names to the taxid using our previous function."
   ]
  },
  {
   "cell_type": "code",
   "execution_count": null,
   "metadata": {},
   "outputs": [],
   "source": [
    "# Create new tree form the newick file\n",
    "t2 = PhyloTree(tree_file)\n",
    "\n",
    "# Give the tree the multiple alignment information\n",
    "t2.link_to_alignment(alignment=alignment_file, alg_format=\"fasta\")\n",
    "\n",
    "# Iterate each leave and change the node name to its NCBI taxonomic ID\n",
    "for n in t2.get_leaves():\n",
    "    n.name = get_species_taxid(n.name.split('|')[1])\n",
    "    \n",
    "# Print the tree to observe the node names\n",
    "print(t2)"
   ]
  },
  {
   "cell_type": "markdown",
   "metadata": {},
   "source": [
    "The PhyloNode object has a unique method to feed complete phylogenetic information to the tree \"annotate_tree.\" It takes as an argument the tree and creates as outputs dictionaries for accessing name, lineages, and rank phylogenetic data."
   ]
  },
  {
   "cell_type": "code",
   "execution_count": null,
   "metadata": {},
   "outputs": [],
   "source": [
    "tax2names, tax2lineages, tax2rank = ncbi.annotate_tree(t2)"
   ]
  },
  {
   "cell_type": "code",
   "execution_count": null,
   "metadata": {},
   "outputs": [],
   "source": [
    "print(tax2names)"
   ]
  },
  {
   "cell_type": "code",
   "execution_count": null,
   "metadata": {},
   "outputs": [],
   "source": [
    "print(tax2lineages)"
   ]
  },
  {
   "cell_type": "code",
   "execution_count": null,
   "metadata": {},
   "outputs": [],
   "source": [
    "print(tax2rank)"
   ]
  },
  {
   "cell_type": "code",
   "execution_count": null,
   "metadata": {},
   "outputs": [],
   "source": [
    "for n in t2.get_leaves():\n",
    "    print(n.sci_name)\n",
    "    print(n.taxid)\n",
    "    print(n.named_lineage) \n",
    "    print(n.lineage)\n",
    "    print(n.rank)\n",
    "    print()"
   ]
  },
  {
   "cell_type": "markdown",
   "metadata": {},
   "source": [
    "We can now display the tree with different phylogenetic rank names at each node level:"
   ]
  },
  {
   "cell_type": "code",
   "execution_count": null,
   "metadata": {},
   "outputs": [],
   "source": [
    "print(t2.get_ascii(attributes=[\"sci_name\"]))"
   ]
  },
  {
   "cell_type": "markdown",
   "metadata": {},
   "source": [
    "We can also change back the names of the nodes to their species scientific names and redisplay the tree:"
   ]
  },
  {
   "cell_type": "code",
   "execution_count": null,
   "metadata": {},
   "outputs": [],
   "source": [
    "for n in t2.get_leaves():\n",
    "    n.name = ' '.join(n.sci_name.split()[:2])\n",
    "\n",
    "td = t2.render(\"images/mytree_ts_fasta.png\", w=1000, units=\"mm\")\n",
    "Image('images/mytree_ts_fasta.png')"
   ]
  },
  {
   "cell_type": "markdown",
   "metadata": {},
   "source": [
    "### Calculating evolutionary distances between nodes\n",
    "\n",
    "Now that we have some control over how to visualize a phylogenetic tree, we move to calculate distances between nodes; this is a quantitative metric of how distant are two nodes (i.e., sequences) in our tree. Let's use two nodes to see how these calculations are carried out:"
   ]
  },
  {
   "cell_type": "code",
   "execution_count": null,
   "metadata": {},
   "outputs": [],
   "source": [
    "# Locate some nodes\n",
    "A = t.search_nodes(name=\"A0A135L6Q7\")[0]\n",
    "B = t.search_nodes(name=\"A0A433XHH6\")[0]\n",
    "C = t.search_nodes(name=\"A0A562QMX2\")[0]\n",
    "\n",
    "# # Calculate distance from current node\n",
    "print(\"The distance between B and C is\",  B.get_distance(C))\n",
    "print(\"The distance between C and B is\",  C.get_distance(B))\n",
    "print()\n",
    "\n",
    "# # Calculate distance from current node\n",
    "print(\"The distance between A and B is\",  A.get_distance(B))\n",
    "print(\"The distance between B and A is\",  t.get_distance(A,B))\n",
    "print()\n",
    "\n",
    "# Calculate the toplogical distance (number of nodes in between)\n",
    "print(\"The number of nodes between A and C is \",\n",
    "    t.get_distance(A,C, topology_only=True))\n",
    "print(\"The number of nodes between C and A is \",\n",
    "    t.get_distance(C,A, topology_only=True))\n",
    "print(t)"
   ]
  },
  {
   "cell_type": "markdown",
   "metadata": {},
   "source": [
    "We can also compute the farthest node of a specific node (and its distance):"
   ]
  },
  {
   "cell_type": "code",
   "execution_count": null,
   "metadata": {},
   "outputs": [],
   "source": [
    "# Calculate the farthest node\n",
    "for x in (A,B,C):\n",
    "    farthest, distance = x.get_farthest_node()\n",
    "    print(\"The farthest node from node \"+x.name+\" is\",  farthest.name)\n",
    "    print(\"They are at a distance of\",  distance)\n",
    "    print()"
   ]
  },
  {
   "cell_type": "markdown",
   "metadata": {},
   "source": [
    "Finally, we use these metrics to create a function to derive a similarity matrix based on phylogenetic distances. "
   ]
  },
  {
   "cell_type": "code",
   "execution_count": null,
   "metadata": {},
   "outputs": [],
   "source": [
    "import numpy as np\n",
    "import matplotlib.pyplot as plt"
   ]
  },
  {
   "cell_type": "code",
   "execution_count": null,
   "metadata": {},
   "outputs": [],
   "source": [
    "def getDistanceMatrixFromTree(tree, topological=False):\n",
    "    \n",
    "    # Create array of shape NxN\n",
    "    M = np.zeros((len(tree), len(tree)))\n",
    "    \n",
    "    # Double iteration to compare each leaf node to all the others\n",
    "    for i, node_i in enumerate(tree):\n",
    "        for j, node_j in enumerate(tree):\n",
    "            \n",
    "            # If the same element is being compared then the distance is zero.\n",
    "            if i == j:\n",
    "                M[i][j] = 0\n",
    "                \n",
    "            # If two different elements are compared their tree distance is calcualated\n",
    "            if j > i:\n",
    "                M[i][j] = node_i.get_distance(node_j, topology_only=topological)\n",
    "                M[j][i] = M[i][j]\n",
    "                \n",
    "    return M"
   ]
  },
  {
   "cell_type": "markdown",
   "metadata": {},
   "source": [
    "We get the tree distance matrix and plot it with matplotlib:"
   ]
  },
  {
   "cell_type": "code",
   "execution_count": null,
   "metadata": {},
   "outputs": [],
   "source": [
    "ids = [n.name for n in t]"
   ]
  },
  {
   "cell_type": "code",
   "execution_count": null,
   "metadata": {},
   "outputs": [],
   "source": [
    "M = getDistanceMatrixFromTree(t)\n",
    "plt.matshow(M)\n",
    "cbar = plt.colorbar()\n",
    "cbar.set_label('Distance between connected nodes')\n",
    "plt.title('Tree distance matrix')\n",
    "plt.xlabel('Sequence index i')\n",
    "plt.ylabel('Sequence index j')"
   ]
  },
  {
   "cell_type": "markdown",
   "metadata": {},
   "source": [
    "We also show the topological distance matrix:"
   ]
  },
  {
   "cell_type": "code",
   "execution_count": null,
   "metadata": {
    "scrolled": true
   },
   "outputs": [],
   "source": [
    "M = getDistanceMatrixFromTree(t, topological=True)\n",
    "plt.matshow(M)\n",
    "cbar = plt.colorbar()\n",
    "cbar.set_label('Topological distance between connected nodes')\n",
    "plt.title('Tree topological distance matrix')\n",
    "plt.xlabel('Sequence index i')\n",
    "plt.ylabel('Sequence index j')"
   ]
  },
  {
   "cell_type": "markdown",
   "metadata": {},
   "source": [
    "### Wrapping up\n",
    "\n",
    "In this fourth practice session, we learned:\n",
    "\n",
    "- How to generate a phylogenetic tree from a fasta file of sequences\n",
    "- How to load and access the tree information in Python using the ETE library\n",
    "- How to display the tree with different visualization options\n",
    "- How to incorporate the MSA display together with our tree\n",
    "- How to access the complete phylogenetic information of our sequences using the NCBI taxonomic database\n",
    "- How we can calculate evolutionary distances between the nodes of our tree"
   ]
  }
 ],
 "metadata": {
  "kernelspec": {
   "display_name": "Python 3",
   "language": "python",
   "name": "python3"
  },
  "language_info": {
   "codemirror_mode": {
    "name": "ipython",
    "version": 3
   },
   "file_extension": ".py",
   "mimetype": "text/x-python",
   "name": "python",
   "nbconvert_exporter": "python",
   "pygments_lexer": "ipython3",
   "version": "3.6.10"
  }
 },
 "nbformat": 4,
 "nbformat_minor": 4
}
