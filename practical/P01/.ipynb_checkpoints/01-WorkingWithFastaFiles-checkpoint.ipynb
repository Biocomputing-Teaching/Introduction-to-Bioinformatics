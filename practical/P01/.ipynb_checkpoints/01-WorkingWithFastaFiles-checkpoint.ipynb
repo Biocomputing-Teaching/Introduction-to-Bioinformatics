{
 "cells": [
  {
   "cell_type": "markdown",
   "metadata": {},
   "source": [
    "# Introduction to Bioinformatics\n",
    "\n",
    "## 01 - Working with sequence information\n",
    "\n",
    "###  This is our first hands-on session into the world of Bioinformatics!\n",
    "\n",
    "Bioinformatics is an interdisciplinary field of Biology and Informatics. Why? Because a great deal of the work we do in biology is about data. Computers make it easy and extremely more robust to process this data. \n",
    "\n",
    "Our mission is to gain biological insight from our data. First, we make questions, then design how to answer them, collect the pertinent data, and analyze it. Finally, we infer new hypotheses from it. This scheme is the scientific method at work and is as valid as in any other scientific field. To do bioinformatics is to do experiments with a computer. Of course, first, we need to learn how to use a computer in a more severe and involved manner. This means know how to talk with the computer so it can understand and carry out our workload for us, or more correctly, learn how to command it through programming.\n",
    "\n",
    "Programming may be a daunting task when beginning with but extremely rewarding at the end. Programming is learning a new language and, as any language, opens new doors on how we think about our world. More specifically, and perhaps, more importantly, programming allows us to carry out jobs that would be humanly impossible due to their time-consuming nature. Albert Einstein once stated:\n",
    "\n",
    "\"Computers are incredibly fast, accurate, and stupid. Human beings are incredibly slow, inaccurate, and brilliant. Together they are powerful beyond imagination.\"\n",
    "\n",
    "In this first notebook, we will learn some basic things about Python; a general-purpose programming language that nowadays is extremely useful and ubiquitous. We do so by learning how to work with sequence information. Much of the work in Bioinformatics is about sequences. Remember that DNA, RNA, and proteins can be represented as strings of sequences, so most of the bio-macromolecules in the living cell can be thought of as a linear string of sequence (quite reductionist, but this is just one dimension on the issue). We will discuss this more further inside the course, for now, let's focus on our baby steps."
   ]
  },
  {
   "cell_type": "markdown",
   "metadata": {},
   "source": [
    "### Before moving on, we need to have clarity about the following concepts:\n",
    "\n",
    "- Python data\n",
    "- Data types\n",
    "- Python function\n",
    "- Python method\n",
    "\n",
    "- Line break"
   ]
  },
  {
   "cell_type": "markdown",
   "metadata": {},
   "source": [
    "### Working with files\n",
    "\n",
    "Most data will be in text files. This are generic files which contain lines of plain text. To work with the data inside these files, we need to tell python its location and how to open them. The following code opens a text file and print its content:"
   ]
  },
  {
   "cell_type": "code",
   "execution_count": null,
   "metadata": {},
   "outputs": [],
   "source": [
    "# Read file content\n",
    "text = open('input/example.txt')\n",
    "\n",
    "# Iterate over the file content (or lines)\n",
    "for line in text:\n",
    "    print(line) # print one line at the time\n",
    "    \n",
    "# Close the file to free up memory\n",
    "text.close()"
   ]
  },
  {
   "cell_type": "markdown",
   "metadata": {},
   "source": [
    "The text file \"example.txt\", inside the \"input\" folder, contains three lines of text which are printed in the notebook. Note how the location of the file was passed to the \"open()\" function and that the output returned by that function is assigned to a varible called \"text\". Then, the \"text\" variable is iterated to print every \"line\" inside it. Finally, the \"text\" object is closed. Note that the syntax used to call an iteration of an object.\n",
    "\n",
    "This is equivalent to:"
   ]
  },
  {
   "cell_type": "code",
   "execution_count": null,
   "metadata": {},
   "outputs": [],
   "source": [
    "cat = open('input/example.txt')\n",
    "\n",
    "for mouse in cat:\n",
    "    print(mouse)    \n",
    "    \n",
    "cat.close()"
   ]
  },
  {
   "cell_type": "markdown",
   "metadata": {},
   "source": [
    "Python does not care how you call your varibles, but we usually give them logaical names to make human sense of what we are doing. Other important thing are comments. Note that any text after a \"#\" symbol won't be interpreted as python code. We put them to remmeber what we are doing. With time, and once you are becoming more proficient with the language, comments should reflect general ideas of what your are doing. This is fundamental if your code is going to be shared with other, so they know what you intended with the code. As well comments will help the future-you to know what you did. You'll be suprised how many times you review old code and you don't know what is doing, even if you were the one who wrote it in the first place.\n",
    "\n",
    "An alternative to the code above is the following:"
   ]
  },
  {
   "cell_type": "code",
   "execution_count": null,
   "metadata": {},
   "outputs": [],
   "source": [
    "with open('input/example.txt') as text_lines:\n",
    "    for line in text_lines:\n",
    "        print(line)    "
   ]
  },
  {
   "cell_type": "markdown",
   "metadata": {},
   "source": [
    "This is what in programming is called an alternative syntax. As in other languages, there are many ways to say the same thing, but some ways are more convinient. In this case, note that we did not closed our \"text_lines\" object. The syntax \"with\", in this case, allows us to close the file object inmmediatley when we left its indentation."
   ]
  },
  {
   "cell_type": "markdown",
   "metadata": {},
   "source": [
    "### How does sequence data looks like?\n",
    "\n",
    "The first thing we need to know if we are working with sequences is where to get it. We will use the UNIPROT database and going to look for the sequence of the human protein \"ubiquitin\" with code \"P0CG48\" (What this protein does?). Let's enter the database and get the sequence in a format called fasta. Save this fasta file in our \"input\" folder.\n",
    "\n",
    "[UNIPROT](https://www.uniprot.org/)\n",
    "\n",
    "Now we read and print its content:"
   ]
  },
  {
   "cell_type": "code",
   "execution_count": null,
   "metadata": {},
   "outputs": [],
   "source": [
    "with open('input/P0CG48.fasta') as fasta:\n",
    "    for l in fasta:\n",
    "        print(l)"
   ]
  },
  {
   "cell_type": "markdown",
   "metadata": {},
   "source": [
    "The format is quite clear. First a line that starts with \">\", containing the name and other data about the sequence, followed by all the lines containing the sequence. \n",
    "\n",
    "This is OK to display the contents of the file, but how do we save and manipulate this information?\n",
    "\n",
    "### Storing sequence data\n",
    "\n",
    "For this we need to create a variable to contain our data and append the information at every iteration:"
   ]
  },
  {
   "cell_type": "code",
   "execution_count": null,
   "metadata": {},
   "outputs": [],
   "source": [
    "ubq_sequence = ''\n",
    "with open('input/P0CG48.fasta') as fasta:\n",
    "    for l in fasta:\n",
    "        ubq_sequence = ubq_sequence+l\n",
    "print(ubq_sequence)"
   ]
  },
  {
   "cell_type": "markdown",
   "metadata": {},
   "source": [
    "Now the content of our file can be accessed through \"ubq_sequence\" without the need of reopen the file every time. However we would like to get this in more convenient way. Our \"ubq_sequence\" string variable contains the data in the as is in the fasta file, however for many pratical purposes this is not very useful. We would like to get into our variable only the sequence, without any line breaks:"
   ]
  },
  {
   "cell_type": "code",
   "execution_count": null,
   "metadata": {},
   "outputs": [],
   "source": [
    "ubq_sequence = ''\n",
    "with open('input/P0CG48.fasta') as fasta:\n",
    "    for l in fasta:\n",
    "        # Only work with lines that do not begin with \">\"\n",
    "        if not l.startswith('>'):\n",
    "            # The strip method deletes line breaks and spaces at the begining or the end of the string\n",
    "            ubq_sequence = ubq_sequence+l.strip()\n",
    "print(ubq_sequence)"
   ]
  },
  {
   "cell_type": "markdown",
   "metadata": {},
   "source": [
    "This starts to look better, but it would be even better not to loose the information of the sequence. When we dropped the line with \">\" we lost the reference information about our sequence, if we were working with a lot of sequences then this rapidly would become chaotic, because we could not follow which sequence is which.\n",
    "\n",
    "There are many ways to track information in python, here we will use what is called a dictionary. This is a special python object that have \"keys\" as entries  and \"values\" as outputs; very similar to a standard dictionary. We use this kind ob object to store the sequence together with its reference. First let's see how we could get the uniprot reference ID as a separate string"
   ]
  },
  {
   "cell_type": "code",
   "execution_count": null,
   "metadata": {},
   "outputs": [],
   "source": [
    "ubq_sequence = ''\n",
    "with open('input/P0CG48.fasta') as fasta:\n",
    "    for l in fasta:        \n",
    "        if l.startswith('>'):\n",
    "            \n",
    "            ## This will be printed to explain what we are doing here ##\n",
    "            \n",
    "            print('1:')\n",
    "            print(l)\n",
    "            print('2:')\n",
    "            print(l.strip())\n",
    "            print('3:')\n",
    "            print(l.split())\n",
    "            print('4:')\n",
    "            print(l.split('|'))\n",
    "            print('5:')\n",
    "            print(l.split('|')[1])\n",
    "            \n",
    "            ubq_uniprot_id = l.split('|')[1]\n",
    "            \n",
    "print('6:')\n",
    "print(ubq_uniprot_id)"
   ]
  },
  {
   "cell_type": "code",
   "execution_count": null,
   "metadata": {},
   "outputs": [],
   "source": [
    "ubq_sequence = ''\n",
    "with open('input/P0CG48.fasta') as fasta:\n",
    "    for l in fasta:        \n",
    "        if l.startswith('>'):\n",
    "            ubq_uniprot_id = l.split('|')[1]\n",
    "        # This matches all that did not match the above if statement\n",
    "        else:\n",
    "            ubq_sequence = ubq_sequence+l.strip()\n",
    "\n",
    "# Declare dictionary to store id + sequence\n",
    "sequences = {ubq_uniprot_id : ubq_sequence}"
   ]
  },
  {
   "cell_type": "code",
   "execution_count": null,
   "metadata": {},
   "outputs": [],
   "source": [
    "print(sequences)"
   ]
  },
  {
   "cell_type": "markdown",
   "metadata": {},
   "source": [
    "Nice! This looks much more likely. \n",
    "\n",
    "### Calculating over our sequence data \n",
    "\n",
    "Let's make some questions to our sequence. One basic question we can make is its amino acidic composition. We can caculate this now very easily. First we get the non-redundant set of letters in our sequence together with a list containing the sequence as individual letters:"
   ]
  },
  {
   "cell_type": "code",
   "execution_count": null,
   "metadata": {
    "scrolled": true
   },
   "outputs": [],
   "source": [
    "# Store letters inside a set\n",
    "letters_set = set()\n",
    "# Store letters inside a list\n",
    "letters_list = []\n",
    "\n",
    "for l in sequences['P0CG48']:\n",
    "    letters_set.add(l)\n",
    "    letters_list.append(l)\n",
    "    \n",
    "print('Letters set:')\n",
    "print(letters_set)\n",
    "print('Letters list:')\n",
    "print(letters_list)"
   ]
  },
  {
   "cell_type": "markdown",
   "metadata": {},
   "source": [
    "Can you tell the difference between a list and set object?\n",
    "\n",
    "Now let's calculate our composition and store it in a dictionary as percentages"
   ]
  },
  {
   "cell_type": "code",
   "execution_count": null,
   "metadata": {},
   "outputs": [],
   "source": [
    "composition = {}\n",
    "for l in letters_set:\n",
    "    # Store composition for each aminoacid\n",
    "    composition[l] = letters_list.count(l)/len(letters_list)*100.0 # Composition formula\n",
    "print(composition)"
   ]
  },
  {
   "cell_type": "markdown",
   "metadata": {},
   "source": [
    "This would be even better if we printed our composition sorted by percentage value:"
   ]
  },
  {
   "cell_type": "code",
   "execution_count": null,
   "metadata": {},
   "outputs": [],
   "source": [
    "print('Ubiqutin composition:')\n",
    "# This is how you sort a dictionary by values in reverse order\n",
    "for aa, percentage in sorted(composition.items(), key=lambda item: item[1], reverse=True):\n",
    "    print(aa, percentage)"
   ]
  },
  {
   "cell_type": "markdown",
   "metadata": {},
   "source": [
    "Can we calculate the theoretical mass of our protein? \n",
    "\n",
    "Of course, we just need the mass of each aminoacid:"
   ]
  },
  {
   "cell_type": "code",
   "execution_count": null,
   "metadata": {},
   "outputs": [],
   "source": [
    "# Dictionary with amino acid masses in Dalton\n",
    "aa_masses = {'A': 71.0, 'C': 103.0, 'D': 114.0, 'E': 128.0, 'F': 147.0, \n",
    "             'G': 57.0, 'H': 138.0, 'I': 113.0, 'K': 128.0, 'L': 113.0, \n",
    "             'M': 131.0, 'N': 114.0, 'P': 97.0, 'Q': 128.0, 'R': 157.0, \n",
    "             'S': 87.0, 'T': 101.0, 'V': 99.0, 'W': 186.0, 'Y': 163.0}\n",
    "\n",
    "protein_mass = 0\n",
    "\n",
    "for aa in sequences['P0CG48']:\n",
    "    protein_mass += aa_masses[aa]\n",
    "    \n",
    "print('Ubiquitin mass:')\n",
    "print(protein_mass, 'Da')"
   ]
  },
  {
   "cell_type": "markdown",
   "metadata": {},
   "source": [
    "Compare this value with the one obtained in a prediction server:\n",
    "\n",
    "[Compute pI/Mw for Swiss-Prot/TrEMBL entries or a user-entered sequence](https://web.expasy.org/compute_pi/)\n",
    "\n",
    "Why do you think these value differ?\n",
    "How would you improve our calculator?\n",
    "\n",
    "Can you calculate the mass-averaged composition of our protein?"
   ]
  },
  {
   "cell_type": "markdown",
   "metadata": {},
   "source": [
    "Ubiquitin is a poly protein, can you find the largest motif repeated?"
   ]
  },
  {
   "cell_type": "markdown",
   "metadata": {},
   "source": [
    "To answer this question we need to learn how to slice strings. We show this with examples:"
   ]
  },
  {
   "cell_type": "code",
   "execution_count": null,
   "metadata": {},
   "outputs": [],
   "source": [
    "my_sequence = sequences['P0CG48']\n",
    "# Print full sequence\n",
    "print(my_sequence)\n",
    "\n",
    "# Slice from beginning\n",
    "print(my_sequence[0])\n",
    "print(my_sequence[19])\n",
    "\n",
    "# Slice from the end\n",
    "print(my_sequence[-1])\n",
    "print(my_sequence[-20])\n",
    "\n",
    "# Slice in a range\n",
    "print(my_sequence[0:19])\n",
    "print(my_sequence[-20:-1])"
   ]
  },
  {
   "cell_type": "markdown",
   "metadata": {},
   "source": [
    "We can use this in order to get how many times a sequence segment is contained in the sequence:"
   ]
  },
  {
   "cell_type": "code",
   "execution_count": null,
   "metadata": {},
   "outputs": [],
   "source": [
    "motif = my_sequence[0:19]\n",
    "n_times = my_sequence.count(motif)\n",
    "print(n_times, motif)"
   ]
  },
  {
   "cell_type": "code",
   "execution_count": null,
   "metadata": {},
   "outputs": [],
   "source": [
    "# Count number of times a motif is inside the sequence\n",
    "# Note that this only counts motifs at the begining of the sequence\n",
    "motifs = {}\n",
    "for i in range(len(sequences['P0CG48'])):\n",
    "    motif = sequences['P0CG48'][:i]\n",
    "    length = sequences['P0CG48'].count(motif)\n",
    "    motifs[length] = motif\n",
    "print(motifs)"
   ]
  },
  {
   "cell_type": "markdown",
   "metadata": {},
   "source": [
    "Can you get the most repeated four letter motif inside the sequence?"
   ]
  },
  {
   "cell_type": "code",
   "execution_count": null,
   "metadata": {},
   "outputs": [],
   "source": [
    "motifs = {}\n",
    "for i in range(len(sequences['P0CG48'])):\n",
    "    motif = sequences['P0CG48'][i:i+4]\n",
    "    length = sequences['P0CG48'].count(motif)\n",
    "    motifs[motif] = length\n",
    "print(motifs)"
   ]
  },
  {
   "cell_type": "markdown",
   "metadata": {},
   "source": [
    "### Multiple sequence data"
   ]
  },
  {
   "cell_type": "markdown",
   "metadata": {},
   "source": [
    "Most of the time we will want to compare multiple sequences to know how they are related to each other. When these sequences are evolutionary related their are known as homologous sequences. Now that we are familiar with working with a single sequence, let's try to read a multiple sequence fasta file into a dictionary."
   ]
  },
  {
   "cell_type": "code",
   "execution_count": null,
   "metadata": {},
   "outputs": [],
   "source": []
  }
 ],
 "metadata": {
  "kernelspec": {
   "display_name": "Python 3",
   "language": "python",
   "name": "python3"
  },
  "language_info": {
   "codemirror_mode": {
    "name": "ipython",
    "version": 3
   },
   "file_extension": ".py",
   "mimetype": "text/x-python",
   "name": "python",
   "nbconvert_exporter": "python",
   "pygments_lexer": "ipython3",
   "version": "3.7.8"
  }
 },
 "nbformat": 4,
 "nbformat_minor": 4
}
