{
 "cells": [
  {
   "cell_type": "markdown",
   "metadata": {},
   "source": [
    "# Introduction to Bioinformatics\n",
    "\n",
    "## 01 - Working with sequence information\n",
    "\n",
    "###  This is our first hands-on session in the world of Bioinformatics!\n",
    "\n",
    "Bioinformatics is an interdisciplinary field of biology and informatics. Why? Because a great deal of the work we do in biology is about data. Computers make it easy and extremely more robust to process this data. \n",
    "\n",
    "Our mission is to gain biological insight from our data. We make questions and design how to answer them (experiments), collect the pertinent data, and analyze it. In the end, we infer new hypotheses from these results. This scheme is the scientific method at work and is as valid here as in any other context. To do bioinformatics is to do experiments with a computer. Of course, first, we need to learn how to use a computer in a more severe and involved manner. This means knowing how to talk to the computer to ask it to do our workload for us, or better said, learn how to command it through programming.\n",
    "\n",
    "Programming may be a daunting task when beginning this course but extremely rewarding at the end. Programming is learning a new language and, as any language, opens new doors on how we think and operate about our world. More specifically, and perhaps, more importantly, programming allows us to carry out jobs that would be humanly impossible due to their time-consuming nature. Albert Einstein once stated:\n",
    "\n",
    "\"Computers are incredibly fast, accurate, and stupid. Human beings are incredibly slow, inaccurate, and brilliant. Together they are powerful beyond imagination.\"\n",
    "\n",
    "In this first notebook, we will learn some basic things about Python, a general-purpose programming language that is extremely useful and ubiquitous nowadays. We do so by learning how to work with sequence information. Much of the work in Bioinformatics is about sequences. Remember that the primary structures of DNA, RNA, and proteins can be represented as sequences of letters, so most of the bio-macromolecules in the living cell can be thought of as linear strings of code (quite reductionist, but this is just one dimension on the issue). We will discuss this further as we progress with the course; for now, let's focus on our baby steps."
   ]
  },
  {
   "cell_type": "markdown",
   "metadata": {},
   "source": [
    "### Before moving on, we need to have clarity about the following concepts:\n",
    "\n",
    "- Python data types\n",
    "- Python function"
   ]
  },
  {
   "cell_type": "markdown",
   "metadata": {},
   "source": [
    "### Working with files\n",
    "\n",
    "Most data will be in text files. These files are generic and contain lines of plain text. To work with the data inside these files, we need to tell Python their locations to open them. The following code opens a text file and prints its content:"
   ]
  },
  {
   "cell_type": "code",
   "execution_count": 1,
   "metadata": {},
   "outputs": [],
   "source": [
    "# Read file content\n",
    "text = open('input/example.txt')\n",
    "\n",
    "# Iterate over the file content (or lines)\n",
    "for line in text:\n",
    "    print(line) # print one line at the time\n",
    "    \n",
    "# Close the file to free up memory\n",
    "text.close()"
   ]
  },
  {
   "cell_type": "markdown",
   "metadata": {},
   "source": [
    "The text file \"example.txt,\" inside the \"input\" folder, contains three text lines that are printed in the notebook. Note how we passed the location of the file to the \"open()\" function and that the output returned was assigned to a variable called \"text.\" Then, the \"text\" variable is iterated to print every \"line\" inside it. Finally, the \"text\" object is closed. Note that the syntax used to call an iteration of an object.\n",
    "\n",
    "The previous code is equivalent to:"
   ]
  },
  {
   "cell_type": "code",
   "execution_count": 2,
   "metadata": {},
   "outputs": [],
   "source": [
    "cat = open('input/example.txt')\n",
    "\n",
    "for mouse in cat:\n",
    "    print(mouse)    \n",
    "    \n",
    "cat.close()"
   ]
  },
  {
   "cell_type": "markdown",
   "metadata": {},
   "source": [
    "Python does not care how you call your variables, but we usually give them logical names to make human sense of what we are doing. Another important thing is to comment. Note that any text after a \"#\" symbol won't be interpreted as python code. We put them to remember what we are doing. With time, and once you are becoming more proficient with the language, comments should reflect general ideas of the code. Documenting is fundamental if you share your code with others, so they know what you intended with it. Comments will also help the future-you to understand what you did. You'll be surprised how many times you review old code, and you don't know what it is doing, even if you were the one who wrote it in the first place.\n",
    "\n",
    "An alternative to the code above is the following:"
   ]
  },
  {
   "cell_type": "code",
   "execution_count": 3,
   "metadata": {},
   "outputs": [],
   "source": [
    "with open('input/example.txt') as text_lines:\n",
    "    for line in text_lines:\n",
    "        print(line)    "
   ]
  },
  {
   "cell_type": "markdown",
   "metadata": {},
   "source": [
    "In programming, writing differently the same code is known as alternative syntax. As in other languages, there are many ways to say the same thing, but some are more convenient than others. In this case, note that we did not close our \"text_lines\" object. In this case, the syntax \"with\" allows us to close the file object immediately when we left its indentation."
   ]
  },
  {
   "cell_type": "markdown",
   "metadata": {},
   "source": [
    "### How does sequence data look?\n",
    "\n",
    "The first thing we need to know if we are working with sequences is where to get them. We will use the UNIPROT database to look for the sequence of the human protein \"ubiquitin\" with code \"P0CG48\" (What this protein does?). Let's enter the database and get the sequence in a format called fasta. Save this fasta file in the repository's \"input\" folder.\n",
    "\n",
    "[UNIPROT](https://www.uniprot.org/)\n",
    "\n",
    "Now we can read and print its content:"
   ]
  },
  {
   "cell_type": "code",
   "execution_count": 4,
   "metadata": {},
   "outputs": [],
   "source": [
    "with open('input/P0CG48.fasta') as fasta:\n",
    "    for l in fasta:\n",
    "        print(l)"
   ]
  },
  {
   "cell_type": "markdown",
   "metadata": {},
   "source": [
    "The format is quite clear. First, a line starting with \">,\" contains the name and other data about the sequence. Then, the following lines have the sequence information.\n",
    "\n",
    "We learn how to print the file's content, but how do we save and manipulate this information?\n",
    "\n",
    "### Storing sequence data\n",
    "\n",
    "To save the information, we need to create a variable to contain our data and then append the info to this variable at every iteration:"
   ]
  },
  {
   "cell_type": "code",
   "execution_count": 5,
   "metadata": {},
   "outputs": [],
   "source": [
    "ubq_sequence = ''\n",
    "with open('input/P0CG48.fasta') as fasta:\n",
    "    for l in fasta:\n",
    "        ubq_sequence = ubq_sequence+l\n",
    "print(ubq_sequence)"
   ]
  },
  {
   "cell_type": "markdown",
   "metadata": {},
   "source": [
    "Now we can access our file's content through \"ubq_sequence\" without the need to reopen the file every time. However, we would like to get this data more conveniently. Our \"ubq_sequence\" string variable contains the fasta file data as-is; nevertheless, this is not very useful for many practical purposes. We want to get into our variable only the sequence, excluding any line breaks:"
   ]
  },
  {
   "cell_type": "code",
   "execution_count": 6,
   "metadata": {},
   "outputs": [],
   "source": [
    "ubq_sequence = ''\n",
    "with open('input/P0CG48.fasta') as fasta:\n",
    "    for l in fasta:\n",
    "        # Only work with lines that do not begin with \">\"\n",
    "        if not l.startswith('>'):\n",
    "            # The strip method deletes line breaks and spaces at the begining or the end of the string\n",
    "            ubq_sequence = ubq_sequence+l.strip()\n",
    "print(ubq_sequence)"
   ]
  },
  {
   "cell_type": "markdown",
   "metadata": {},
   "source": [
    "This code starts to look better, but it would be even better if we did not lose the sequence's reference information. When we dropped the line starting with \">,\" we lost the reference information about the sequence. If we were working with many sequences, then this rapidly would become chaotic because we could not follow which sequence is which.\n",
    "\n",
    "There are many ways to track information in Python. Here we will use Python dictionaries. A dictionary is a particular Python object with \"keys\" as entries and \"values\" as outputs, very similar to a standard dictionary. We use this Python object to store the sequence together with its reference name. First, let's see how we could get the UniProt reference ID as a separate string."
   ]
  },
  {
   "cell_type": "code",
   "execution_count": 7,
   "metadata": {},
   "outputs": [],
   "source": [
    "ubq_sequence = ''\n",
    "with open('input/P0CG48.fasta') as fasta:\n",
    "    for l in fasta:        \n",
    "        if l.startswith('>'):\n",
    "            \n",
    "            ## This will be printed to explain what we are doing here ##\n",
    "            \n",
    "            print('1:')\n",
    "            print(l)\n",
    "            print('2:')\n",
    "            print(l.strip())\n",
    "            print('3:')\n",
    "            print(l.split())\n",
    "            print('4:')\n",
    "            print(l.split('|'))\n",
    "            print('5:')\n",
    "            print(l.split('|')[1])\n",
    "            \n",
    "            ubq_uniprot_id = l.split('|')[1]\n",
    "            \n",
    "print('6:')\n",
    "print(ubq_uniprot_id)"
   ]
  },
  {
   "cell_type": "code",
   "execution_count": 8,
   "metadata": {},
   "outputs": [],
   "source": [
    "ubq_sequence = ''\n",
    "with open('input/P0CG48.fasta') as fasta:\n",
    "    for l in fasta:        \n",
    "        if l.startswith('>'):\n",
    "            ubq_uniprot_id = l.split('|')[1]\n",
    "        # This matches all that did not match the above if statement\n",
    "        else:\n",
    "            ubq_sequence = ubq_sequence+l.strip()\n",
    "\n",
    "# Declare dictionary to store id + sequence\n",
    "sequences = {ubq_uniprot_id : ubq_sequence}"
   ]
  },
  {
   "cell_type": "code",
   "execution_count": 9,
   "metadata": {},
   "outputs": [],
   "source": [
    "print(sequences)"
   ]
  },
  {
   "cell_type": "markdown",
   "metadata": {},
   "source": [
    "Nice! This code looks much more likely. \n",
    "\n",
    "### Calculating over our sequence data \n",
    "\n",
    "Let's make some questions to our sequence. One simple question we can make is its amino acid composition. We can calculate this now very easily. First, we get the non-redundant set of letters in our sequence together with a list containing the sequence as individual elements:"
   ]
  },
  {
   "cell_type": "code",
   "execution_count": 10,
   "metadata": {
    "scrolled": true
   },
   "outputs": [],
   "source": [
    "# Store letters inside a set\n",
    "letters_set = set()\n",
    "# Store letters inside a list\n",
    "letters_list = []\n",
    "\n",
    "for l in sequences['P0CG48']:\n",
    "    letters_set.add(l)\n",
    "    letters_list.append(l)\n",
    "    \n",
    "print('Letters set:')\n",
    "print(letters_set)\n",
    "print('Letters list:')\n",
    "print(letters_list)"
   ]
  },
  {
   "cell_type": "markdown",
   "metadata": {},
   "source": [
    "Can you tell the difference between a list and a set object?\n",
    "\n",
    "Now let's calculate our composition and store it in a dictionary as percentages:"
   ]
  },
  {
   "cell_type": "code",
   "execution_count": 11,
   "metadata": {},
   "outputs": [
    {
     "name": "stdout",
     "output_type": "stream",
     "text": [
      "{'R': 5.255474452554744, 'Y': 1.313868613138686, 'L': 11.824817518248175, 'E': 7.883211678832117, 'P': 3.9416058394160585, 'V': 5.401459854014599, 'K': 9.197080291970803, 'G': 7.883211678832117, 'F': 2.627737226277372, 'T': 9.197080291970803, 'N': 2.627737226277372, 'M': 1.313868613138686, 'H': 1.313868613138686, 'A': 2.627737226277372, 'S': 3.9416058394160585, 'D': 6.569343065693431, 'Q': 7.883211678832117, 'I': 9.197080291970803}\n"
     ]
    }
   ],
   "source": [
    "composition = {}\n",
    "for l in letters_set:\n",
    "    # Store composition for each aminoacid\n",
    "    composition[l] = letters_list.count(l)/len(letters_list)*100.0 # Composition formula\n",
    "print(composition)"
   ]
  },
  {
   "cell_type": "markdown",
   "metadata": {},
   "source": [
    "This code would be even better if we printed our composition sorted by percentage value:"
   ]
  },
  {
   "cell_type": "code",
   "execution_count": 12,
   "metadata": {},
   "outputs": [
    {
     "name": "stdout",
     "output_type": "stream",
     "text": [
      "Ubiqutin composition:\n",
      "L 11.824817518248175\n",
      "K 9.197080291970803\n",
      "T 9.197080291970803\n",
      "I 9.197080291970803\n",
      "E 7.883211678832117\n",
      "G 7.883211678832117\n",
      "Q 7.883211678832117\n",
      "D 6.569343065693431\n",
      "V 5.401459854014599\n",
      "R 5.255474452554744\n",
      "P 3.9416058394160585\n",
      "S 3.9416058394160585\n",
      "F 2.627737226277372\n",
      "N 2.627737226277372\n",
      "A 2.627737226277372\n",
      "Y 1.313868613138686\n",
      "M 1.313868613138686\n",
      "H 1.313868613138686\n"
     ]
    }
   ],
   "source": [
    "print('Ubiqutin composition:')\n",
    "# This is how you sort a dictionary by values in reverse order\n",
    "for aa, percentage in sorted(composition.items(), key=lambda item: item[1], reverse=True):\n",
    "    print(aa, percentage)"
   ]
  },
  {
   "cell_type": "markdown",
   "metadata": {},
   "source": [
    "Can we calculate the theoretical mass of our protein? \n",
    "\n",
    "Of course, but first, we need the mass of each amino acid:"
   ]
  },
  {
   "cell_type": "code",
   "execution_count": 13,
   "metadata": {},
   "outputs": [
    {
     "name": "stdout",
     "output_type": "stream",
     "text": [
      "Ubiquitin mass:\n",
      "76878.0 Da\n"
     ]
    }
   ],
   "source": [
    "# Dictionary with amino acid masses in Dalton\n",
    "aa_masses = {'A': 71.0, 'C': 103.0, 'D': 114.0, 'E': 128.0, 'F': 147.0, \n",
    "             'G': 57.0, 'H': 138.0, 'I': 113.0, 'K': 128.0, 'L': 113.0, \n",
    "             'M': 131.0, 'N': 114.0, 'P': 97.0, 'Q': 128.0, 'R': 157.0, \n",
    "             'S': 87.0, 'T': 101.0, 'V': 99.0, 'W': 186.0, 'Y': 163.0}\n",
    "\n",
    "protein_mass = 0\n",
    "\n",
    "for aa in sequences['P0CG48']:\n",
    "    protein_mass += aa_masses[aa]\n",
    "    \n",
    "print('Ubiquitin mass:')\n",
    "print(protein_mass, 'Da')"
   ]
  },
  {
   "cell_type": "markdown",
   "metadata": {},
   "source": [
    "[Compute pI/Mw for Swiss-Prot/TrEMBL entries or a user-entered sequence](https://web.expasy.org/compute_pi/)\n",
    "\n",
    "Why do you think these values differ?\n",
    "How would you improve our calculator?\n",
    "\n",
    "Can you calculate the mass-averaged composition of our protein?\n",
    "\n",
    "Ubiquitin is a polyprotein. Can you find the largest motif repeated?\n",
    "\n",
    "To answer this question, we need to learn how to slice strings. We show this with examples:"
   ]
  },
  {
   "cell_type": "code",
   "execution_count": 14,
   "metadata": {},
   "outputs": [
    {
     "name": "stdout",
     "output_type": "stream",
     "text": [
      "MQIFVKTLTGKTITLEVEPSDTIENVKAKIQDKEGIPPDQQRLIFAGKQLEDGRTLSDYNIQKESTLHLVLRLRGGMQIFVKTLTGKTITLEVEPSDTIENVKAKIQDKEGIPPDQQRLIFAGKQLEDGRTLSDYNIQKESTLHLVLRLRGGMQIFVKTLTGKTITLEVEPSDTIENVKAKIQDKEGIPPDQQRLIFAGKQLEDGRTLSDYNIQKESTLHLVLRLRGGMQIFVKTLTGKTITLEVEPSDTIENVKAKIQDKEGIPPDQQRLIFAGKQLEDGRTLSDYNIQKESTLHLVLRLRGGMQIFVKTLTGKTITLEVEPSDTIENVKAKIQDKEGIPPDQQRLIFAGKQLEDGRTLSDYNIQKESTLHLVLRLRGGMQIFVKTLTGKTITLEVEPSDTIENVKAKIQDKEGIPPDQQRLIFAGKQLEDGRTLSDYNIQKESTLHLVLRLRGGMQIFVKTLTGKTITLEVEPSDTIENVKAKIQDKEGIPPDQQRLIFAGKQLEDGRTLSDYNIQKESTLHLVLRLRGGMQIFVKTLTGKTITLEVEPSDTIENVKAKIQDKEGIPPDQQRLIFAGKQLEDGRTLSDYNIQKESTLHLVLRLRGGMQIFVKTLTGKTITLEVEPSDTIENVKAKIQDKEGIPPDQQRLIFAGKQLEDGRTLSDYNIQKESTLHLVLRLRGGV\n",
      "M\n",
      "S\n",
      "V\n",
      "D\n",
      "MQIFVKTLTGKTITLEVEP\n",
      "DYNIQKESTLHLVLRLRGG\n"
     ]
    }
   ],
   "source": [
    "my_sequence = sequences['P0CG48']\n",
    "# Print full sequence\n",
    "print(my_sequence)\n",
    "\n",
    "# Slice from beginning\n",
    "print(my_sequence[0])\n",
    "print(my_sequence[19])\n",
    "\n",
    "# Slice from the end\n",
    "print(my_sequence[-1])\n",
    "print(my_sequence[-20])\n",
    "\n",
    "# Slice in a range\n",
    "print(my_sequence[0:19])\n",
    "print(my_sequence[-20:-1])"
   ]
  },
  {
   "cell_type": "markdown",
   "metadata": {},
   "source": [
    "We can use this to get how many times a sequence segment is contained in the sequence:"
   ]
  },
  {
   "cell_type": "code",
   "execution_count": 15,
   "metadata": {},
   "outputs": [
    {
     "name": "stdout",
     "output_type": "stream",
     "text": [
      "9 MQIFVKTLTGKTITLEVEP\n"
     ]
    }
   ],
   "source": [
    "motif = my_sequence[0:19]\n",
    "n_times = my_sequence.count(motif)\n",
    "print(n_times, motif)"
   ]
  },
  {
   "cell_type": "code",
   "execution_count": 16,
   "metadata": {},
   "outputs": [
    {
     "name": "stdout",
     "output_type": "stream",
     "text": [
      "{686: '', 9: 'MQIFVKTLTGKTITLEVEPSDTIENVKAKIQDKEGIPPDQQRLIFAGKQLEDGRTLSDYNIQKESTLHLVLRLRGG', 4: 'MQIFVKTLTGKTITLEVEPSDTIENVKAKIQDKEGIPPDQQRLIFAGKQLEDGRTLSDYNIQKESTLHLVLRLRGGMQIFVKTLTGKTITLEVEPSDTIENVKAKIQDKEGIPPDQQRLIFAGKQLEDGRTLSDYNIQKESTLHLVLRLRGG', 3: 'MQIFVKTLTGKTITLEVEPSDTIENVKAKIQDKEGIPPDQQRLIFAGKQLEDGRTLSDYNIQKESTLHLVLRLRGGMQIFVKTLTGKTITLEVEPSDTIENVKAKIQDKEGIPPDQQRLIFAGKQLEDGRTLSDYNIQKESTLHLVLRLRGGMQIFVKTLTGKTITLEVEPSDTIENVKAKIQDKEGIPPDQQRLIFAGKQLEDGRTLSDYNIQKESTLHLVLRLRGG', 2: 'MQIFVKTLTGKTITLEVEPSDTIENVKAKIQDKEGIPPDQQRLIFAGKQLEDGRTLSDYNIQKESTLHLVLRLRGGMQIFVKTLTGKTITLEVEPSDTIENVKAKIQDKEGIPPDQQRLIFAGKQLEDGRTLSDYNIQKESTLHLVLRLRGGMQIFVKTLTGKTITLEVEPSDTIENVKAKIQDKEGIPPDQQRLIFAGKQLEDGRTLSDYNIQKESTLHLVLRLRGGMQIFVKTLTGKTITLEVEPSDTIENVKAKIQDKEGIPPDQQRLIFAGKQLEDGRTLSDYNIQKESTLHLVLRLRGG', 1: 'MQIFVKTLTGKTITLEVEPSDTIENVKAKIQDKEGIPPDQQRLIFAGKQLEDGRTLSDYNIQKESTLHLVLRLRGGMQIFVKTLTGKTITLEVEPSDTIENVKAKIQDKEGIPPDQQRLIFAGKQLEDGRTLSDYNIQKESTLHLVLRLRGGMQIFVKTLTGKTITLEVEPSDTIENVKAKIQDKEGIPPDQQRLIFAGKQLEDGRTLSDYNIQKESTLHLVLRLRGGMQIFVKTLTGKTITLEVEPSDTIENVKAKIQDKEGIPPDQQRLIFAGKQLEDGRTLSDYNIQKESTLHLVLRLRGGMQIFVKTLTGKTITLEVEPSDTIENVKAKIQDKEGIPPDQQRLIFAGKQLEDGRTLSDYNIQKESTLHLVLRLRGGMQIFVKTLTGKTITLEVEPSDTIENVKAKIQDKEGIPPDQQRLIFAGKQLEDGRTLSDYNIQKESTLHLVLRLRGGMQIFVKTLTGKTITLEVEPSDTIENVKAKIQDKEGIPPDQQRLIFAGKQLEDGRTLSDYNIQKESTLHLVLRLRGGMQIFVKTLTGKTITLEVEPSDTIENVKAKIQDKEGIPPDQQRLIFAGKQLEDGRTLSDYNIQKESTLHLVLRLRGGMQIFVKTLTGKTITLEVEPSDTIENVKAKIQDKEGIPPDQQRLIFAGKQLEDGRTLSDYNIQKESTLHLVLRLRGG'}\n"
     ]
    }
   ],
   "source": [
    "# Count number of times a motif is inside the sequence\n",
    "# Note that this only counts motifs at the begining of the sequence\n",
    "motifs = {}\n",
    "for i in range(len(sequences['P0CG48'])):\n",
    "    motif = sequences['P0CG48'][:i]\n",
    "    length = sequences['P0CG48'].count(motif)\n",
    "    motifs[length] = motif\n",
    "print(motifs)"
   ]
  },
  {
   "cell_type": "markdown",
   "metadata": {},
   "source": [
    "Can you get the most repeated four-letter motif inside the sequence?"
   ]
  },
  {
   "cell_type": "code",
   "execution_count": 17,
   "metadata": {},
   "outputs": [
    {
     "name": "stdout",
     "output_type": "stream",
     "text": [
      "{'MQIF': 9, 'QIFV': 9, 'IFVK': 9, 'FVKT': 9, 'VKTL': 9, 'KTLT': 9, 'TLTG': 9, 'LTGK': 9, 'TGKT': 9, 'GKTI': 9, 'KTIT': 9, 'TITL': 9, 'ITLE': 9, 'TLEV': 9, 'LEVE': 9, 'EVEP': 9, 'VEPS': 9, 'EPSD': 9, 'PSDT': 9, 'SDTI': 9, 'DTIE': 9, 'TIEN': 9, 'IENV': 9, 'ENVK': 9, 'NVKA': 9, 'VKAK': 9, 'KAKI': 9, 'AKIQ': 9, 'KIQD': 9, 'IQDK': 9, 'QDKE': 9, 'DKEG': 9, 'KEGI': 9, 'EGIP': 9, 'GIPP': 9, 'IPPD': 9, 'PPDQ': 9, 'PDQQ': 9, 'DQQR': 9, 'QQRL': 9, 'QRLI': 9, 'RLIF': 9, 'LIFA': 9, 'IFAG': 9, 'FAGK': 9, 'AGKQ': 9, 'GKQL': 9, 'KQLE': 9, 'QLED': 9, 'LEDG': 9, 'EDGR': 9, 'DGRT': 9, 'GRTL': 9, 'RTLS': 9, 'TLSD': 9, 'LSDY': 9, 'SDYN': 9, 'DYNI': 9, 'YNIQ': 9, 'NIQK': 9, 'IQKE': 9, 'QKES': 9, 'KEST': 9, 'ESTL': 9, 'STLH': 9, 'TLHL': 9, 'LHLV': 9, 'HLVL': 9, 'LVLR': 9, 'VLRL': 9, 'LRLR': 9, 'RLRG': 9, 'LRGG': 9, 'RGGM': 8, 'GGMQ': 8, 'GMQI': 8, 'RGGV': 1}\n"
     ]
    }
   ],
   "source": [
    "motifs = {}\n",
    "for i in range(len(sequences['P0CG48'])):\n",
    "    motif = sequences['P0CG48'][i:i+4]\n",
    "    length = sequences['P0CG48'].count(motif)\n",
    "    motifs[motif] = length\n",
    "    if i == len(sequences['P0CG48'])-4:\n",
    "        break\n",
    "print(motifs)"
   ]
  },
  {
   "cell_type": "markdown",
   "metadata": {},
   "source": [
    "### Multiple sequence data\n",
    "\n",
    "Most of the time, we will want to compare multiple sequences to know how they relate to each other. When these sequences are evolutionarily related, they are known as homologous sequences. Now that we are familiar with single sequences, let's try to read a multiple sequence fasta file into a dictionary.\n",
    "\n",
    "To obtain the data, we will [BLAST](https://en.wikipedia.org/wiki/BLAST_(biotechnology)) our sequence and download the resulting fasta file. We will run the BLAST algorithm using the P0CG48 code inside the Uniprot page:\n",
    "\n",
    "[Uniprot BLAST page](https://www.uniprot.org/blast/)\n",
    "\n",
    "Now we put the fasta file into a dictionary:"
   ]
  },
  {
   "cell_type": "code",
   "execution_count": 18,
   "metadata": {},
   "outputs": [
    {
     "name": "stdout",
     "output_type": "stream",
     "text": [
      "50\n",
      "dict_keys(['P0CG61', 'P0CG64', 'P0CG48', 'L8IDB8', 'A0A4W2CUP5', 'I5AMR3', 'P0CG69', 'A0A0N8P0W8', 'A4V1F9', 'B3M7Z7', 'Q63429', 'P0CG50', 'A0A672GE88', 'A0A3Q1HML6', 'F1LML2', 'A0A2C9F3G2', 'A0A5G2QDJ2', 'F7E910', 'E9GJF3', 'Q17E99', 'A0A6I8T8L2', 'A0A3R7Q158', 'A0A423TTK6', 'A0A3Q0JF84', 'A0A6I8VHL7', 'A0A4C1XI51', 'A0A4C1UZ89', 'A0A2A4JQD5', 'A0A0Q9XB42', 'A0A2A4JQG3', 'B0W973', 'F7IUE6', 'A0A182G3H1', 'B4KXU3', 'D6WQT5', 'A0A3S1BV23', 'P0CH28', 'B4HTV7', 'A0A653D7M7', 'A0A673BED4', 'A0A3B5PX76', 'A0A665TEB5', 'A0A667ZZN4', 'T1FVF6', 'A0A0B1PSR6', 'A0A0T6B4N3', 'A0A0R3WDD8', 'A0A3Q3FL84', 'A0A498MSM4', 'A0A671YE85'])\n"
     ]
    }
   ],
   "source": [
    "sequences = {}\n",
    "sequence = None # Define as None to avoid the: not defined variable problem.\n",
    "\n",
    "# Open the multiple sequences fasta file\n",
    "with open('input/P0CG48_BLAST_sequences.fasta') as ff:\n",
    "    for l in ff:        \n",
    "        # Gather sequence lines only\n",
    "        if not l.startswith('>'):\n",
    "            # Merge these lines into a single string\n",
    "            sequence += l.strip()\n",
    "        # Match fasta name lines (starting with >)\n",
    "        else:\n",
    "            # Not at the first iteration because sequence must different than None\n",
    "            if sequence != None:\n",
    "                # Save entry in the dictionary\n",
    "                sequences[uniprot_id] = sequence\n",
    "            uniprot_id = l.split('|')[1]\n",
    "            # Empty the sequence string \n",
    "            sequence = ''\n",
    "            \n",
    "    # After the final iteration there is still a missing entry in the dictionary\n",
    "    sequences[uniprot_id] = sequence\n",
    "\n",
    "# Print the dictionary entries\n",
    "print(len(sequences.keys()))\n",
    "print(sequences.keys())"
   ]
  },
  {
   "cell_type": "markdown",
   "metadata": {},
   "source": [
    "### Declaring python functions\n",
    "\n",
    "Note that the previous code is sufficiently generic to be applied to any fasta file. You can reuse the code as many times as you want if you wrap it as a Python function. If the functions you write are generalizable, they can be applied in many different contexts, saving us a lot of typing!\n",
    "\n",
    "We will convert the above code into a function. This function will get as input the path to the fasta file, and it will return a dictionary containing the sequences. Also, the function must have proper documentation. The documentation should include the definition and usage of the function. In this way, the function can be understood and used by others.\n",
    "\n",
    "To declare a function, we begin with the word \"def,\" followed by the function's name, inputs, and keywords. The function ends when it encounters a return statement. This statement allows you to store the function's output into a variable after its execution.\n",
    "\n",
    "```\n",
    "def myfunction(inputs, keywords=None):\n",
    "    \"\"\"\n",
    "    Here goes the documentation\n",
    "    \"\"\"\n",
    "    \n",
    "    Here goes the code\n",
    "    \n",
    "    Here goes the return statement\n",
    "    \n",
    "```  \n",
    "     \n",
    "Let's declare a function to read fasta files as dictionaries:"
   ]
  },
  {
   "cell_type": "code",
   "execution_count": 19,
   "metadata": {},
   "outputs": [],
   "source": [
    "def readFasta(input_fasta):\n",
    "    \"\"\"\n",
    "    Reads a fasta file and returns the sequence data as a dictionary.\n",
    "    \n",
    "    Parameters\n",
    "    ----------\n",
    "    input_fasta : str\n",
    "        Path to the input fasta file\n",
    "    \n",
    "    Returns\n",
    "    -------\n",
    "    sequences : dict\n",
    "        Dictionary containing the IDs and squences in the fasta file.\n",
    "    \"\"\"\n",
    "    sequences = {}\n",
    "    sequence = None\n",
    "    with open(input_fasta) as ff:\n",
    "        for l in ff:        \n",
    "            if not l.startswith('>'):\n",
    "                sequence += l.strip()\n",
    "            else:\n",
    "                if sequence != None:\n",
    "                    sequences[uniprot_id] = sequence\n",
    "                uniprot_id = l.split('|')[1]\n",
    "                sequence = ''\n",
    "        sequences[uniprot_id] = sequence\n",
    "    \n",
    "    return sequences"
   ]
  },
  {
   "cell_type": "markdown",
   "metadata": {},
   "source": [
    "Once the function has been created, now we can call it over and over to process fasta files:"
   ]
  },
  {
   "cell_type": "code",
   "execution_count": 20,
   "metadata": {},
   "outputs": [
    {
     "name": "stdout",
     "output_type": "stream",
     "text": [
      "dict_keys(['P0CG61', 'P0CG64', 'P0CG48', 'L8IDB8', 'A0A4W2CUP5', 'I5AMR3', 'P0CG69', 'A0A0N8P0W8', 'A4V1F9', 'B3M7Z7', 'Q63429', 'P0CG50', 'A0A672GE88', 'A0A3Q1HML6', 'F1LML2', 'A0A2C9F3G2', 'A0A5G2QDJ2', 'F7E910', 'E9GJF3', 'Q17E99', 'A0A6I8T8L2', 'A0A3R7Q158', 'A0A423TTK6', 'A0A3Q0JF84', 'A0A6I8VHL7', 'A0A4C1XI51', 'A0A4C1UZ89', 'A0A2A4JQD5', 'A0A0Q9XB42', 'A0A2A4JQG3', 'B0W973', 'F7IUE6', 'A0A182G3H1', 'B4KXU3', 'D6WQT5', 'A0A3S1BV23', 'P0CH28', 'B4HTV7', 'A0A653D7M7', 'A0A673BED4', 'A0A3B5PX76', 'A0A665TEB5', 'A0A667ZZN4', 'T1FVF6', 'A0A0B1PSR6', 'A0A0T6B4N3', 'A0A0R3WDD8', 'A0A3Q3FL84', 'A0A498MSM4', 'A0A671YE85'])\n"
     ]
    }
   ],
   "source": [
    "sequences = readFasta('input/P0CG48_BLAST_sequences.fasta')\n",
    "print(sequences.keys())"
   ]
  },
  {
   "cell_type": "markdown",
   "metadata": {},
   "source": [
    "This is a very powerful way of programming. By making functions you can reuse any code previously made and put it to good use in different contexts.\n",
    "\n",
    "To get help for a function you just call:"
   ]
  },
  {
   "cell_type": "code",
   "execution_count": 21,
   "metadata": {},
   "outputs": [
    {
     "name": "stdout",
     "output_type": "stream",
     "text": [
      "Help on function readFasta in module __main__:\n",
      "\n",
      "readFasta(input_fasta)\n",
      "    Reads a fasta file and returns the sequence data as a dictionary.\n",
      "    \n",
      "    Parameters\n",
      "    ----------\n",
      "    input_fasta : str\n",
      "        Path to the input fasta file\n",
      "    \n",
      "    Returns\n",
      "    -------\n",
      "    sequences : dict\n",
      "        Dictionary containing the IDs and squences in the fasta file.\n",
      "\n"
     ]
    }
   ],
   "source": [
    "help(readFasta)"
   ]
  },
  {
   "cell_type": "markdown",
   "metadata": {},
   "source": [
    "This prints out the documentation of the function. Good documentation should give you all you need to understand how the function is used.\n",
    "\n",
    "### Wrapping up\n",
    "\n",
    "In this first practice session, we learned:\n",
    "\n",
    "- How to use Python to read files.\n",
    "- How to iterate the content of a file.\n",
    "- How data sequence is organized in fasta files.\n",
    "- How to employ sets, lists, and dictionaries to store data.\n",
    "- How to make calculations using Python strings\n",
    "- How to write a Python function"
   ]
  }
 ],
 "metadata": {
  "kernelspec": {
   "display_name": "Python 3",
   "language": "python",
   "name": "python3"
  },
  "language_info": {
   "codemirror_mode": {
    "name": "ipython",
    "version": 3
   },
   "file_extension": ".py",
   "mimetype": "text/x-python",
   "name": "python",
   "nbconvert_exporter": "python",
   "pygments_lexer": "ipython3",
   "version": "3.6.10"
  }
 },
 "nbformat": 4,
 "nbformat_minor": 4
}
