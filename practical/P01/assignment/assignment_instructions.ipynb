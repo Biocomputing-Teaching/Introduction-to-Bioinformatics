{
 "cells": [
  {
   "cell_type": "markdown",
   "metadata": {},
   "source": [
    "## Assignment for practical session 01\n",
    "\n",
    "There is an individual quiz you need to complete for the evaluation of practical session 01. You will find it in the moodle with the name:\n",
    "\n",
    "Practical session 1 - Group X - Quiz N\n",
    "\n",
    "The X corresponds to your group of practical sessions, and the N is a unique number given to each of you based on your position in the course's list.\n",
    "\n",
    "To answer the quiz, you will need to apply the code described during the practical session; reuse the same notebook to complete the assignment. \n",
    "\n",
    "Here, in this notebook, you will find useful data and functions to complete the assignment. Please use the numerical values tabulated here since the correct answers were derived using this data.\n",
    "\n",
    "You have one week to answer the quiz starting from the end of your corresponding practical session. We won't accept answers after this period. You only have one attempt when answering the quiz, so please be extra cautious!"
   ]
  },
  {
   "cell_type": "markdown",
   "metadata": {},
   "source": [
    "1) Dictionary containing the definitions of \"residues type\" categories:"
   ]
  },
  {
   "cell_type": "code",
   "execution_count": 1,
   "metadata": {},
   "outputs": [],
   "source": [
    "residue_type = {'Aliphatic': ['Alanine', 'Glycine', 'Isoleucine', 'Leucine', 'Proline', 'Valine'],\n",
    "                'Aromatic': ['Phenylalanine', 'Tryptophan', 'Tyrosine'],\n",
    "                'Acidic': ['Aspartic', 'Glutamic'],\n",
    "                'Basic': ['Arginine', 'Histidine', 'Lysine'],\n",
    "                'Hydroxylic': ['Serine', 'Threonine'],\n",
    "                'Sulphur-containing': ['Cysteine', 'Methionine'],\n",
    "                'Amidic': ['Asparagine', 'Glutamine']}"
   ]
  },
  {
   "cell_type": "markdown",
   "metadata": {},
   "source": [
    "2) Dicitonary converting full amino acid names into three-letter code"
   ]
  },
  {
   "cell_type": "code",
   "execution_count": 2,
   "metadata": {},
   "outputs": [],
   "source": [
    "residues = {'Alanine': 'ALA', 'Arginine' : 'ARG', 'Asparagine' : 'ASN', 'Aspartic' : 'ASP',\n",
    "            'Cysteine' : 'CYS', 'Glutamine' : 'GLN', 'Glutamic' : 'GLU', 'Glycine' : 'GLY', \n",
    "            'Histidine' : 'HIS', 'Isoleucine' : 'ILE', 'Leucine' : 'LEU', 'Lysine' : 'LYS', \n",
    "            'Methionine' : 'MET', 'Phenylalanine' : 'PHE', 'Proline' : 'PRO', 'Serine': 'SER', \n",
    "            'Threonine' : 'THR', 'Tryptophan' : 'TRP', 'Tyrosine' : 'TYR', 'Valine' : 'VAL'}"
   ]
  },
  {
   "cell_type": "markdown",
   "metadata": {},
   "source": [
    "3) Dictionary with amino acid masses in Dalton"
   ]
  },
  {
   "cell_type": "code",
   "execution_count": 3,
   "metadata": {},
   "outputs": [],
   "source": [
    "aa_masses = {'A': 71.0, 'C': 103.0, 'D': 114.0, 'E': 128.0, 'F': 147.0, \n",
    "             'G': 57.0, 'H': 138.0, 'I': 113.0, 'K': 128.0, 'L': 113.0, \n",
    "             'M': 131.0, 'N': 114.0, 'P': 97.0, 'Q': 128.0, 'R': 157.0, \n",
    "             'S': 87.0, 'T': 101.0, 'V': 99.0, 'W': 186.0, 'Y': 163.0}"
   ]
  },
  {
   "cell_type": "markdown",
   "metadata": {},
   "source": [
    "4) Avogadro constant"
   ]
  },
  {
   "cell_type": "code",
   "execution_count": null,
   "metadata": {},
   "outputs": [],
   "source": [
    "NA = 6.0221409e+23"
   ]
  },
  {
   "cell_type": "markdown",
   "metadata": {},
   "source": [
    "5) Convert dalton to grams"
   ]
  },
  {
   "cell_type": "code",
   "execution_count": null,
   "metadata": {},
   "outputs": [],
   "source": [
    "dalton_to_gram = 1.66054e-24 # gram/dalton\n",
    "\n",
    "# i.e., 1 dalton = 1.66054e-24 grams"
   ]
  },
  {
   "cell_type": "markdown",
   "metadata": {},
   "source": [
    "6) Finding similar sequences\n",
    "\n",
    "To find the IDs of other protein sequences similar to a specific protein sequence, you can do a BLAST search specifying which database you want to query. Use the BLAST in the uniprot database:\n",
    "\n",
    "https://www.uniprot.org/"
   ]
  },
  {
   "cell_type": "code",
   "execution_count": null,
   "metadata": {},
   "outputs": [],
   "source": []
  }
 ],
 "metadata": {
  "kernelspec": {
   "display_name": "Python 3",
   "language": "python",
   "name": "python3"
  },
  "language_info": {
   "codemirror_mode": {
    "name": "ipython",
    "version": 3
   },
   "file_extension": ".py",
   "mimetype": "text/x-python",
   "name": "python",
   "nbconvert_exporter": "python",
   "pygments_lexer": "ipython3",
   "version": "3.6.10"
  }
 },
 "nbformat": 4,
 "nbformat_minor": 4
}
