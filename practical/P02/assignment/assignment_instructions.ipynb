{
 "cells": [
  {
   "cell_type": "markdown",
   "metadata": {},
   "source": [
    "## Assignment for practical session 02\n",
    "\n",
    "There is an individual quiz you need to complete for the evaluation of practical session 02. You will find it in the moodle with the name:\n",
    "\n",
    "Practical session 2 - Group X - Quiz N\n",
    "\n",
    "The X corresponds to your group of practical sessions, and the N is a unique number given to each of you based on your position in the course's list.\n",
    "\n",
    "To answer the quiz, you will need to apply the code described during the practical session; reuse the same notebook to complete the assignment. \n",
    "\n",
    "Here, in this notebook, you will find useful tips to complete the assignment.\n",
    "\n",
    "You have one week to answer the quiz starting from the end of your corresponding practical session. We won't accept answers after this period. You only have one attempt when answering the quiz, so please be extra cautious!"
   ]
  },
  {
   "cell_type": "markdown",
   "metadata": {},
   "source": [
    "### Tips and clarifications"
   ]
  },
  {
   "cell_type": "markdown",
   "metadata": {},
   "source": [
    "1) Alignments - When asked to use the first alignment\n",
    "\n",
    "This refer to the fact that the function we are using to align:\n",
    "\n",
    "```\n",
    "alignment = pairwise2.align.globalxx(sequence1, sequence2)\n",
    "```\n",
    "\n",
    "returns multiple alignments. Therefore, we are asking you to use exclusively the first alignment, i.e. the:\n",
    "```\n",
    "alignment[0]\n",
    "```\n",
    "object, for the analysis to answer that particular question. "
   ]
  },
  {
   "cell_type": "markdown",
   "metadata": {},
   "source": [
    "2) Fasta files\n",
    "\n",
    "In the question regarding a set of sequences contained in a fasta file with name sequences_XX.fasta. The file is in this assignment folder, inside a folder named: \"fasta_files\". The XX is a number that represent your individual assignment."
   ]
  },
  {
   "cell_type": "markdown",
   "metadata": {},
   "source": [
    "3) Centroid\n",
    "\n",
    "When asked for the centroid of a group of sequences, we are refering to the centroid of the percentage of identity matrix. In this context, the centroid is defined as the sequence with the highest average percentage of identity in the matrix. (Remember that the matrix must be filled fully, i.e., lower and upper triangles!)"
   ]
  },
  {
   "cell_type": "code",
   "execution_count": null,
   "metadata": {},
   "outputs": [],
   "source": []
  }
 ],
 "metadata": {
  "kernelspec": {
   "display_name": "Python 3",
   "language": "python",
   "name": "python3"
  },
  "language_info": {
   "codemirror_mode": {
    "name": "ipython",
    "version": 3
   },
   "file_extension": ".py",
   "mimetype": "text/x-python",
   "name": "python",
   "nbconvert_exporter": "python",
   "pygments_lexer": "ipython3",
   "version": "3.6.10"
  }
 },
 "nbformat": 4,
 "nbformat_minor": 4
}
