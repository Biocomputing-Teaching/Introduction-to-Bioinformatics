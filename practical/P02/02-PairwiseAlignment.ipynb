{
 "cells": [
  {
   "cell_type": "markdown",
   "metadata": {},
   "source": [
    "# Introduction to Bioinformatics\n",
    "\n",
    "## 02 - Pairwise alignment\n",
    "\n",
    "In the first practice session, we learned how to access a file's content and how to do some basic operations with python strings. We worked with a fasta-format file that contained only one sequence. We pick up from this last point and extend our method to read multiple sequences from a fasta file. Later, we explore how a specialized library called [Biopython](https://biopython.org/) deals with sequence information. Using this library, we then compare many sequences utilizing the percentage of identity as a metric.\n",
    "\n",
    "### Multiple sequence data\n",
    "\n",
    "Most of the time, we will want to compare multiple sequences to know how they relate to each other. When these sequences are evolutionarily related, they are known as homologous sequences. Now that we are familiar with single sequence fasta files let's try to read a multiple sequence fasta file into a dictionary.\n",
    "\n",
    "To obtain the data, we will [BLAST](https://en.wikipedia.org/wiki/BLAST_(biotechnology)) our sequence and download the resulting fasta file. We will run the BLAST algorithm using the P0CG48 code inside the Uniprot page:\n",
    "\n",
    "[Uniprot BLAST page](https://www.uniprot.org/blast/)\n",
    "\n",
    "How many sequences do we have?"
   ]
  },
  {
   "cell_type": "code",
   "execution_count": null,
   "metadata": {},
   "outputs": [],
   "source": [
    "count = 0\n",
    "with open('input/P0CG48_BLAST_sequences.fasta') as ff:\n",
    "    for l in ff:        \n",
    "        # Gather sequence lines only\n",
    "        if l.startswith('>'):\n",
    "#             count = count + 1\n",
    "            count += 1\n",
    "print(count)"
   ]
  },
  {
   "cell_type": "markdown",
   "metadata": {},
   "source": [
    "Now we put the fasta file into a dictionary:"
   ]
  },
  {
   "cell_type": "code",
   "execution_count": null,
   "metadata": {},
   "outputs": [],
   "source": [
    "# Define empty dictionary to store sequences in it\n",
    "sequences = {}\n",
    "\n",
    "# Define the single-sequence container as an empty string\n",
    "sequence = ''\n",
    "# Open the multiple sequences fasta file\n",
    "with open('input/P0CG48_BLAST_sequences.fasta') as ff:\n",
    "    for l in ff:        \n",
    "        # Gather sequence lines only\n",
    "        if not l.startswith('>'):\n",
    "            # Merge these lines into a single string\n",
    "            sequence += l.strip()\n",
    "        # Match fasta name lines (starting with >)\n",
    "        else:\n",
    "            # Not at the first iteration because sequence must different than ''\n",
    "            if sequence != '':\n",
    "                # Save entry in the dictionary\n",
    "                sequences[uniprot_id] = sequence\n",
    "            uniprot_id = l.split('|')[1]\n",
    "            # Empty the sequence string \n",
    "            sequence = ''\n",
    "            \n",
    "# Print the dictionary length (the number of elements in it).\n",
    "print(len(sequences.keys()))"
   ]
  },
  {
   "cell_type": "markdown",
   "metadata": {},
   "source": [
    "We notice that we are short on one sequence. Why is that?\n",
    "\n",
    "After the final iteration, there is still a missing entry in the dictionary, and this is because the final iteration does not store the last iterated sequence. We only save the sequence we were gathering when we find a \">\" symbol at the beginning of the line. However, our last sequence is not followed by this symbol. This pitfall is easily managed if we tell python to store the end sequence once it has done its last iteration, i.e., after the \"for loop\" has finished."
   ]
  },
  {
   "cell_type": "code",
   "execution_count": null,
   "metadata": {},
   "outputs": [],
   "source": [
    "sequences = {}\n",
    "\n",
    "sequence = ''\n",
    "with open('input/P0CG48_BLAST_sequences.fasta') as ff:\n",
    "    for l in ff:        \n",
    "        if not l.startswith('>'):\n",
    "            sequence += l.strip()\n",
    "        else:\n",
    "            if sequence != '':\n",
    "                sequences[uniprot_id] = sequence\n",
    "            uniprot_id = l.split('|')[1]\n",
    "            sequence = ''\n",
    "            \n",
    "    # Notice where the identation is located. It will save the last sequence after\n",
    "    # the \"for loop\" has finished; this indentation is outside the for loop.\n",
    "    sequences[uniprot_id] = sequence\n",
    "\n",
    "# Print the dictionary entries\n",
    "print(len(sequences.keys()))"
   ]
  },
  {
   "cell_type": "code",
   "execution_count": null,
   "metadata": {},
   "outputs": [],
   "source": [
    "# Let's print our dictionary to see how it looks like.\n",
    "print(sequences)"
   ]
  },
  {
   "cell_type": "markdown",
   "metadata": {},
   "source": [
    "### Declaring python functions\n",
    "\n",
    "Note that the previous code is sufficiently generic to be applied to any fasta file. You can reuse the code as many times as you want if you wrap it as a Python function. If the functions you write are generalizable, they can be applied in many different contexts, saving us a lot of typing!\n",
    "\n",
    "We will convert the above code into a function. This function will get as input the path to the fasta file, and it will return a dictionary containing the sequences. Also, the function must have proper documentation. The documentation should include the definition and usage of the function. In this way, the function can be understood and used by others.\n",
    "\n",
    "To declare a function, we begin with the word \"def,\" followed by the function's name, inputs, and keywords. The function ends when it encounters a return statement. This statement allows you to store the function's output into a variable after its execution.\n",
    "\n",
    "```\n",
    "def myfunction(arguments, keywords=None):\n",
    "    \"\"\"\n",
    "    Here goes the documentation\n",
    "    \"\"\"\n",
    "    \n",
    "    Here goes the code\n",
    "    \n",
    "    Here goes the return statement\n",
    "    \n",
    "```  \n",
    "     \n",
    "Let's declare a function to read fasta files as dictionaries:"
   ]
  },
  {
   "cell_type": "code",
   "execution_count": null,
   "metadata": {},
   "outputs": [],
   "source": [
    "def readFasta(input_fasta):\n",
    "    \"\"\"\n",
    "    Reads a fasta file and returns the sequence data as a dictionary.\n",
    "    \n",
    "    Parameters\n",
    "    ----------\n",
    "    input_fasta : str\n",
    "        Path to the input fasta file\n",
    "    \n",
    "    Returns\n",
    "    -------\n",
    "    sequences : dict\n",
    "        Dictionary containing the IDs (keys) and squences (values) in the fasta file.\n",
    "    \"\"\"\n",
    "    sequences = {}\n",
    "    sequence = ''\n",
    "    with open(input_fasta) as ff:\n",
    "        for l in ff:        \n",
    "            if not l.startswith('>'):\n",
    "                sequence += l.strip()\n",
    "            else:\n",
    "                if sequence != '':\n",
    "                    sequences[uniprot_id] = sequence\n",
    "                uniprot_id = l.split('|')[1]\n",
    "                sequence = ''\n",
    "        sequences[uniprot_id] = sequence\n",
    "    \n",
    "    return sequences"
   ]
  },
  {
   "cell_type": "code",
   "execution_count": null,
   "metadata": {},
   "outputs": [],
   "source": [
    "sequences = readFasta('input/P0CG48_BLAST_sequences.fasta')\n",
    "print(sequences.keys())"
   ]
  },
  {
   "cell_type": "markdown",
   "metadata": {},
   "source": [
    "This syntax is a compelling way of programming. You can reuse any code previously made and put it to fair use in different contexts by making functions.\n",
    "\n",
    "To get help for a function, you just call:"
   ]
  },
  {
   "cell_type": "code",
   "execution_count": null,
   "metadata": {},
   "outputs": [],
   "source": [
    "help(readFasta)"
   ]
  },
  {
   "cell_type": "markdown",
   "metadata": {},
   "source": [
    "This prints out the documentation of the function. Acceptable documentation should give you all you need to understand how the function is used. To get specific details of a function, you need to look at its code and comments within.\n",
    "\n",
    "### Read sequences with Biopython \n",
    "\n",
    "Now that you are aware of how files can be read and parsed by python. We will move forward and use a specialized library to read, store and analyze our data. It uses more sophisticated functions to read and parse fasta files and other file formats relevant for storing biological data.\n",
    "\n",
    "Let's read our blast fasta file with Biopython. We start by importing Biopython and all other libraries we will need."
   ]
  },
  {
   "cell_type": "code",
   "execution_count": null,
   "metadata": {},
   "outputs": [],
   "source": [
    "from Bio import SeqIO"
   ]
  },
  {
   "cell_type": "markdown",
   "metadata": {},
   "source": [
    "Biopython has a SeqIO interface that allows us to read fasta formatted files. We use the method parse to read the data into a generator, a particular type of iterator."
   ]
  },
  {
   "cell_type": "code",
   "execution_count": null,
   "metadata": {},
   "outputs": [],
   "source": [
    "# Read fasta file with Biopython's SeqIO interface\n",
    "sequences = SeqIO.parse('input/P0CG48_BLAST_sequences.fasta', 'fasta')\n",
    "\n",
    "#We print the sequences contained in the iterator with a for loop\n",
    "for seq_record in sequences:\n",
    "    print(seq_record)\n",
    "    print() # Empty print to separate each iteration's print"
   ]
  },
  {
   "cell_type": "markdown",
   "metadata": {},
   "source": [
    "Now we use the help() method to understand how Biopython represents sequences."
   ]
  },
  {
   "cell_type": "code",
   "execution_count": null,
   "metadata": {},
   "outputs": [],
   "source": [
    "# Let us call help in the sequence object\n",
    "help(seq_record)"
   ]
  },
  {
   "cell_type": "markdown",
   "metadata": {},
   "source": [
    "Two main attributes represent the id and the sequences.  Additionally, other attributes can contain additional information about our sequence. Let's print some attributes to see what they have."
   ]
  },
  {
   "cell_type": "code",
   "execution_count": null,
   "metadata": {
    "scrolled": false
   },
   "outputs": [],
   "source": [
    "# Sequence information\n",
    "print(seq_record.id)\n",
    "print(seq_record.name)\n",
    "print(seq_record.description)\n",
    "print(seq_record.annotations)\n",
    "print('----------')"
   ]
  },
  {
   "cell_type": "markdown",
   "metadata": {},
   "source": [
    "How do we access the sequence?"
   ]
  },
  {
   "cell_type": "code",
   "execution_count": null,
   "metadata": {
    "scrolled": false
   },
   "outputs": [],
   "source": [
    "# Sequence itself\n",
    "print(seq_record.seq)\n",
    "print()\n",
    "print(seq_record[10:20]) # Slice directly on the SeqRecord object\n",
    "print()\n",
    "print(seq_record.seq[10:20]) # Slice on the Seq object\n",
    "print('----------')\n",
    "# Print types\n",
    "print(type(seq_record))\n",
    "print(type(seq_record[10:20]))\n",
    "print('----------')\n",
    "print(type(seq_record.seq))\n",
    "print(type(seq_record.seq[10:20])) \n",
    "print('----------')"
   ]
  },
  {
   "cell_type": "markdown",
   "metadata": {},
   "source": [
    "We can call help on the Seq type object to know more about it."
   ]
  },
  {
   "cell_type": "code",
   "execution_count": null,
   "metadata": {
    "scrolled": true
   },
   "outputs": [],
   "source": [
    "help(seq_record.seq)"
   ]
  },
  {
   "cell_type": "markdown",
   "metadata": {},
   "source": [
    "To learn more about how Biopython handles sequence files, please visit:\n",
    "\n",
    "[Biopython SeqIO](https://biopython.org/wiki/SeqIO)\n",
    "\n",
    "### Align sequences with biopython\n",
    "\n",
    "Biopython contains methods to align a pair of sequences, either globally or locally.\n",
    "Let's pick up two sequences and align them:"
   ]
  },
  {
   "cell_type": "code",
   "execution_count": null,
   "metadata": {},
   "outputs": [],
   "source": [
    "from Bio.Seq import Seq"
   ]
  },
  {
   "cell_type": "code",
   "execution_count": null,
   "metadata": {},
   "outputs": [],
   "source": [
    "# These are two random DNA sequences of 20bp length\n",
    "seq1 = Seq('GGGCGGCCTGGCCGGAGCAC')\n",
    "seq2 = Seq('TCCTCGGCGATGTGTGTAAA')\n",
    "\n",
    "print(type(seq1))\n",
    "print(type(seq2))"
   ]
  },
  {
   "cell_type": "markdown",
   "metadata": {},
   "source": [
    "We will employ the Bio.pairwise2 module to align the two sequences globally:"
   ]
  },
  {
   "cell_type": "code",
   "execution_count": null,
   "metadata": {},
   "outputs": [],
   "source": [
    "from Bio import pairwise2"
   ]
  },
  {
   "cell_type": "code",
   "execution_count": null,
   "metadata": {},
   "outputs": [],
   "source": [
    "# align and print the number of different alignments\n",
    "alignments = pairwise2.align.globalxx(seq1, seq2)\n",
    "print(len(alignments))"
   ]
  },
  {
   "cell_type": "markdown",
   "metadata": {},
   "source": [
    "The method generates many alignments that have similar scores. We can access all of them by iterating the alignment object. We do so and print the resulting five first alignments"
   ]
  },
  {
   "cell_type": "code",
   "execution_count": null,
   "metadata": {},
   "outputs": [],
   "source": [
    "# Print first 5 alignments\n",
    "for a in alignments[:5]:\n",
    "    print(a)"
   ]
  },
  {
   "cell_type": "markdown",
   "metadata": {},
   "source": [
    "We can improve the visualization by using the \"format_alignment\" function of the Biopython pairwise2 method."
   ]
  },
  {
   "cell_type": "code",
   "execution_count": null,
   "metadata": {},
   "outputs": [],
   "source": [
    "from Bio.pairwise2 import format_alignment"
   ]
  },
  {
   "cell_type": "code",
   "execution_count": null,
   "metadata": {},
   "outputs": [],
   "source": [
    "print('Pretty print first alignment:')\n",
    "print(format_alignment(*alignments[0]))\n",
    "print('Print alignment sequences:')\n",
    "# We access each sequence with indexes\n",
    "print(alignments[0][0]) # first sequence with index 0\n",
    "print(alignments[0][1]) # second sequence with index 1"
   ]
  },
  {
   "cell_type": "markdown",
   "metadata": {},
   "source": [
    "We see that for each alignment generated, we can access the individual strings of each sequence by just using indexing over the alignment object.\n",
    "\n",
    "Now using this, let's calculate the percentage of identity for each alignment. For this, we create a function:"
   ]
  },
  {
   "cell_type": "code",
   "execution_count": null,
   "metadata": {},
   "outputs": [],
   "source": [
    "def calculatePID(alignment):\n",
    "    \n",
    "    # Get the two sequences\n",
    "    seq1 = alignment[0]\n",
    "    seq2 = alignment[1]\n",
    "    \n",
    "    count = 0 # Variable containing the count of matching characters\n",
    "    # iterate\n",
    "    for j in range(len(seq1)):\n",
    "        p1 = seq1[j] # Position i of first alignment \n",
    "        p2 = seq2[j] # Position i of second alignment\n",
    "    \n",
    "        # Only count when we don't have '-' at any position.\n",
    "        if p1 != '-' and p2 != '-':\n",
    "            # Only when the sequences match\n",
    "            if p1 == p1:\n",
    "                count += 1\n",
    "            \n",
    "    # Get length of each sequence\n",
    "    l1 = len([p for p in seq1 if p != '-'])\n",
    "    l2 = len([p for p in seq2 if p != '-'])\n",
    "    \n",
    "    # the PID uses the length of the shortest sequence to convert to percentage\n",
    "    pid = count/min(l1, l2)\n",
    "    return pid"
   ]
  },
  {
   "cell_type": "markdown",
   "metadata": {},
   "source": [
    "Using this function, let's calculate the percentage of identity (PID) of an alignment:"
   ]
  },
  {
   "cell_type": "code",
   "execution_count": null,
   "metadata": {},
   "outputs": [],
   "source": [
    "print('Alignment 0 PID:')\n",
    "print(calculatePID(alignments[0]))"
   ]
  },
  {
   "cell_type": "markdown",
   "metadata": {},
   "source": [
    "### Calculate a PID matrix\n",
    "\n",
    "We now move into comparing sequences in an all vs. all fashion. This type of comparison is advantageous if we want to find groups of related sequences. To this end, We need to compare every sequence to each other. We will need a matrix to store the comparison data (NumPy offers a convenient way of storaging matrix data). Let's have a look at how a matrix of data looks like:"
   ]
  },
  {
   "cell_type": "code",
   "execution_count": null,
   "metadata": {},
   "outputs": [],
   "source": [
    "import numpy as np"
   ]
  },
  {
   "cell_type": "code",
   "execution_count": null,
   "metadata": {},
   "outputs": [],
   "source": [
    "# print a 5x5 matrix filled with zeros\n",
    "M = np.zeros((5,5))\n",
    "print(M)"
   ]
  },
  {
   "cell_type": "markdown",
   "metadata": {},
   "source": [
    "Let's play to fill some entries"
   ]
  },
  {
   "cell_type": "code",
   "execution_count": null,
   "metadata": {},
   "outputs": [],
   "source": [
    "M[1][2] = 1 # i<j, upper right \n",
    "M[3][1] = 2 # i>j, lower left\n",
    "M[3][3] = 3 # i=j, diagonal\n",
    "print(M)"
   ]
  },
  {
   "cell_type": "markdown",
   "metadata": {},
   "source": [
    "Each (i,j) element of the matrix will contain a value that corresponds to the comparison of elements i and j.\n",
    "\n",
    "We now read a set of N sequences and store them in a dictionary:"
   ]
  },
  {
   "cell_type": "code",
   "execution_count": null,
   "metadata": {},
   "outputs": [],
   "source": [
    "# Read the sequences in the file\n",
    "sequences = SeqIO.parse('input/apolipoproteinCI_sequences.fasta', 'fasta')\n",
    "# Convert iterator to dictionary\n",
    "sequences = {s.id : s for s in sequences}"
   ]
  },
  {
   "cell_type": "markdown",
   "metadata": {},
   "source": [
    "We will calculate the percentage of identity between each pair of sequences\n",
    "and store the M matrix values. First, we initialize a matrix with the correct shape and filled with zeros to keep all the values (NxN)."
   ]
  },
  {
   "cell_type": "code",
   "execution_count": null,
   "metadata": {},
   "outputs": [],
   "source": [
    "# Initialize the NxN matrix\n",
    "N = len(sequences)\n",
    "M = np.zeros((N, N))\n",
    "print(M.shape)\n",
    "print(M)"
   ]
  },
  {
   "cell_type": "markdown",
   "metadata": {},
   "source": [
    "Finally, we compare all the sequences to each other. To iterate the elements to compare, we use a double for loop; one loop for i and one for j elements:"
   ]
  },
  {
   "cell_type": "code",
   "execution_count": null,
   "metadata": {},
   "outputs": [],
   "source": [
    "for i,s1 in enumerate(sequences):\n",
    "    for j, s2 in enumerate(sequences):\n",
    "        seq1 = sequences[s1]\n",
    "        seq2 = sequences[s2]\n",
    "        if i == j: # the same element always has a PID=1.0\n",
    "            M[i][j] = 1.0\n",
    "        if j > i : # We compare only half matrix\n",
    "            alignment = pairwise2.align.globalxx(sequences[s1], sequences[s2])\n",
    "            M[i][j] = calculatePID(alignment[0])\n",
    "            M[j][i] = M[i][j] # This to fill the lower half matrix"
   ]
  },
  {
   "cell_type": "markdown",
   "metadata": {},
   "source": [
    "Let's visualize how our matrix looks like using matplotlib"
   ]
  },
  {
   "cell_type": "code",
   "execution_count": null,
   "metadata": {},
   "outputs": [],
   "source": [
    "import matplotlib.pyplot as plt"
   ]
  },
  {
   "cell_type": "code",
   "execution_count": null,
   "metadata": {},
   "outputs": [],
   "source": [
    "plt.matshow(M)\n",
    "plt.title('PID matrix for the Apolipoprotein CI')\n",
    "plt.xlabel('Sequence index i')\n",
    "plt.ylabel('Sequence index j')"
   ]
  },
  {
   "cell_type": "markdown",
   "metadata": {},
   "source": [
    "We can get the centroid structure by printing the column average "
   ]
  },
  {
   "cell_type": "code",
   "execution_count": null,
   "metadata": {},
   "outputs": [],
   "source": [
    "print('Average PID value')\n",
    "print(np.average(M))\n",
    "print()\n",
    "print('Average PID value for each sequence:')\n",
    "print(np.average(M, axis=0))\n",
    "print()\n",
    "print('Maximum PID value for each sequence:')\n",
    "print(np.max(np.average(M, axis=0)))\n",
    "print()\n",
    "print('The index of the centroid sequence is:')\n",
    "centroid_index = np.argmax(np.average(M, axis=0))\n",
    "print(centroid_index)\n",
    "print()\n",
    "print('The centroid sequence is:')\n",
    "print(list(sequences.keys())[centroid_index])"
   ]
  },
  {
   "cell_type": "markdown",
   "metadata": {},
   "source": [
    "### Wrapping up\n",
    "\n",
    "In this second practice session, we learned:\n",
    "\n",
    "- How to read multiple sequences from a file and store them as a dictionary\n",
    "- How to write a Python function for repetitive tasks\n",
    "- How to read sequences with Biopython \n",
    "- How to do a pairwise alignment of two sequences with Biopython\n",
    "- How to calculate a PID matrix"
   ]
  }
 ],
 "metadata": {
  "kernelspec": {
   "display_name": "Python 3",
   "language": "python",
   "name": "python3"
  },
  "language_info": {
   "codemirror_mode": {
    "name": "ipython",
    "version": 3
   },
   "file_extension": ".py",
   "mimetype": "text/x-python",
   "name": "python",
   "nbconvert_exporter": "python",
   "pygments_lexer": "ipython3",
   "version": "3.6.10"
  }
 },
 "nbformat": 4,
 "nbformat_minor": 4
}
