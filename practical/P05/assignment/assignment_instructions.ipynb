{
 "cells": [
  {
   "cell_type": "markdown",
   "metadata": {},
   "source": [
    "## Assignment for practical session 05\n",
    "\n",
    "There is an individual quiz you need to complete for the evaluation of practical session 05. You will find it in the moodle with the name:\n",
    "\n",
    "Practical session 5 - Group X - Quiz N\n",
    "\n",
    "The X corresponds to your group of practical sessions, and the N is a unique number given to each of you based on your position in the course's list.\n",
    "\n",
    "To answer the quiz, you will need to apply the code described during the practical session; reuse the same notebook to complete the assignment. \n",
    "\n",
    "You have one week to answer the quiz starting at 7am on 29/04/2021. We won't accept answers after this period. You only have one attempt when answering the quiz, so please be extra cautious!"
   ]
  },
  {
   "cell_type": "markdown",
   "metadata": {},
   "source": [
    "### Data"
   ]
  },
  {
   "cell_type": "markdown",
   "metadata": {},
   "source": [
    "The VCF file you will need to answer the quiz has already been downloaded for you and it can be found in the data folder of the P05 repository folder. You only need to make sure to clone the course repository to its latest version and add to the jupyter-notebook the exact VCF file name as given in your individual quiz description. "
   ]
  },
  {
   "cell_type": "markdown",
   "metadata": {},
   "source": [
    "### Modules/Packages"
   ]
  },
  {
   "cell_type": "markdown",
   "metadata": {},
   "source": [
    "Please, make sure to have successfully installed all required packages/modules needed to run the jupyter-notebook as stated in the README.md file. "
   ]
  }
 ],
 "metadata": {
  "kernelspec": {
   "display_name": "Python 3",
   "language": "python",
   "name": "python3"
  },
  "language_info": {
   "codemirror_mode": {
    "name": "ipython",
    "version": 3
   },
   "file_extension": ".py",
   "mimetype": "text/x-python",
   "name": "python",
   "nbconvert_exporter": "python",
   "pygments_lexer": "ipython3",
   "version": "3.8.5"
  }
 },
 "nbformat": 4,
 "nbformat_minor": 4
}
