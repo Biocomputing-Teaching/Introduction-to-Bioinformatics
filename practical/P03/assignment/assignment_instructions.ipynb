{
 "cells": [
  {
   "cell_type": "markdown",
   "metadata": {},
   "source": [
    "## Assignment for practical session 03\n",
    "\n",
    "There is an individual quiz you need to complete for the evaluation of practical session 03. You will find it in the moodle with the name:\n",
    "\n",
    "Practical session 3 - Group X - Quiz N\n",
    "\n",
    "The X corresponds to your group of practical sessions, and the N is a unique number given to each of you based on your position in the course's list.\n",
    "\n",
    "To answer the quiz, you will need to apply the code described during the practical session; reuse the same notebook to complete the assignment. \n",
    "\n",
    "You have two weeks to answer your quiz, starting from the email notification. We won't accept answers after this period. You only have one attempt when answering the quiz, so please be extra cautious!\n",
    "\n",
    "### Files with sequences\n",
    "\n",
    "All the necessary files to answer the quiz are located inside the \"Introduction-to-Bioinformatics/practical/P03/assignment/fasta_files\" directory in the course GitHub's repository. "
   ]
  },
  {
   "cell_type": "code",
   "execution_count": null,
   "metadata": {},
   "outputs": [],
   "source": []
  }
 ],
 "metadata": {
  "kernelspec": {
   "display_name": "Python 3",
   "language": "python",
   "name": "python3"
  },
  "language_info": {
   "codemirror_mode": {
    "name": "ipython",
    "version": 3
   },
   "file_extension": ".py",
   "mimetype": "text/x-python",
   "name": "python",
   "nbconvert_exporter": "python",
   "pygments_lexer": "ipython3",
   "version": "3.6.10"
  }
 },
 "nbformat": 4,
 "nbformat_minor": 4
}
