{
 "cells": [
  {
   "cell_type": "markdown",
   "metadata": {},
   "source": [
    "# Introduction to Bioinformatics\n",
    "\n",
    "## 03 - Multiple sequences alignment\n",
    "\n",
    "In the second practice session, we learned how to create functions to wrap repetitive tasks and reuse this code. We created a function that read a fasta file containing multiple sequences into a Python dictionary and another function that calculated the Percentage of Identity between two aligned sequences. Then we moved to use a specialized library, called BioPython, to read fasta files and access the sequence information. Finally, we learn how to employ NumPy to create an array of numbers to store a pair-wise comparison matrix between all the elements in a collection of sequences.\n",
    "\n",
    "In this practical session, we will explore how we can call external programs from Python. We do this to generate multiple sequence alignments that can be read directly using BioPython. We will use the MAFFT program, a multiple sequence alignment program for Unix-like operating systems.  It offers a range of multiple alignment methods. Especially noteworthy is the INS-i, which is accurate for alignments of up to 200 sequences.\n",
    "\n",
    "This notebook assumes that you have the program installed. If you have not installed it by any chance, please refer to the preparation instructions that appear in the README.md file in the practical session 03 GitHub's page.\n",
    "\n",
    "### Introduction\n",
    "\n",
    "When comparing biological sequences, there is a constant need to create an evolutionary relationship among the sequences under scrutiny. This comparison should reflect as close as possible the history of the genes involved, i.e., the mutations, insertion, and deletions that had happened as the genes diverged from their common point in biological history. To approximate this task, it is useful to observe conservation patterns among the sequences available to us in the present day. The objective of multiple sequence alignment is to create the maximum possible matching between the sequences to observe these conserved motifs.\n",
    "\n",
    "The problem of sequence alignment is of higher complexity than that of the pair-wise alignment, and specialized algorithms are necessary to approach it efficiently and accurately.\n",
    "\n",
    "Today we will employ the MAFFT program, which we usually would call from the command line (i.e., from the terminal). We will integrate the program into a python function able to call this program (e.g., from the notebook) and read the output conveniently using BioPython.\n",
    "\n",
    "### Gathering the sequences to be compared\n",
    "\n",
    "For this session, we will use a collection of sequences for the 2-hydroxymuconate tautomerase protein, one of the smallest enzymes known (close to 62 amino acid residues). First, we will [BLAST](https://www.uniprot.org/blast/) a representative sequence of this protein family, with code P70994, in the UniprotKB/Swissprot database. Then we download the fasta file that contains 250 entries (this file is already in the input folder of this practical session). For our purpose, the file now has too many sequences, and therefore we need to narrow it down to some significant sequences so our comparison would be more tractable and confident.\n",
    "\n",
    "### Generating a set of representative sequences.\n",
    "\n",
    "To generate groups of similar sequences, we are going to employ the CD-HIT program. This program can create very rapidly groups of related sequences based on a sequence identity threshold. We will use a very stringent sequence identity threshold to generate the groups (this will ensure we have the smallest possible set of sequences to compare).\n",
    "To execute CD-HIT you need to go to the terminal and run the following command in the practical session directory:\n",
    "\n",
    "```cd-hit -i input/2HDXMT_250.fasta -o output/2HDXMT_clusters.fasta -c 0.65```\n",
    "\n",
    "This command can be broken down as follows:\n",
    "\tcd-hit: represents the command name\n",
    "\t-i: is the option to give the path to the input fasta file.\n",
    "\t-o: is the option to tell the path to the output fasta file.\n",
    "\t-c: is the option that defines the sequence identity threshold.\n",
    "\n",
    "We will see two output files in the \"output\" folder: 2HDXMT_clusters.fasta and 2HDXMT_clusters.fasta.clstr. The former is the fasta file containing our non-redundant set of sequences no more similar between them than our selected sequence identity threshold of 0.65. The latter is a file with the summary of the assignment of the original 250 sequences in the just created 20 clusters. We will employ the 2HDXMT_clusters.fasta file for building our multiple sequence alignment.\n",
    "\n",
    "### Adding left-out sequences\n",
    "\n",
    "Despite creating a group of significant sequences, there is a good chance that our sequence of interest has been left out. This exclusion happens because the program selects the cluster centroid sequence to be written to the fasta file, and there is a small chance that our sequence is the centroid sequence of its cluster.\n",
    "\n",
    "We did the BLAST search with code P70994; we can look at the 2HDXMT_clusters.fasta.clstr file to see in which sequence cluster our target sequence was grouped:"
   ]
  },
  {
   "cell_type": "code",
   "execution_count": null,
   "metadata": {},
   "outputs": [],
   "source": [
    "with open('output/2HDXMT_clusters.fasta.clstr') as output:\n",
    "    for line in output:\n",
    "        print(line)"
   ]
  },
  {
   "cell_type": "markdown",
   "metadata": {},
   "source": [
    "We note that our sequence is in cluster 0. CD-HIT puts an * after the centroid sequence. \n",
    "\n",
    "Can we find which are the centroid sequences for each cluster?"
   ]
  },
  {
   "cell_type": "code",
   "execution_count": null,
   "metadata": {
    "scrolled": true
   },
   "outputs": [],
   "source": [
    "with open('output/2HDXMT_clusters.fasta.clstr') as output:\n",
    "    for line in output:\n",
    "        if '*' in line or '>Cluster' in line:\n",
    "            print(line)"
   ]
  },
  {
   "cell_type": "markdown",
   "metadata": {},
   "source": [
    "The centroid sequence is the sequence with UniProt ID: B7GMK5. For us, it would be more convenient to replace this sequence with our target sequence, P70994. In this way, we could make any analysis containing the information of interest included. Let's do this with BioPython. \n",
    "\n",
    "Let's read all the sequences in the CD-HIT output fasta file and our target sequence, which is already in the input folder as P70994.fasta."
   ]
  },
  {
   "cell_type": "code",
   "execution_count": null,
   "metadata": {},
   "outputs": [],
   "source": [
    "from Bio import SeqIO "
   ]
  },
  {
   "cell_type": "code",
   "execution_count": null,
   "metadata": {},
   "outputs": [],
   "source": [
    "cdhit_sequences = SeqIO.parse('output/2HDXMT_clusters.fasta', 'fasta')\n",
    "target_sequence = SeqIO.parse('input/P70994.fasta', 'fasta')"
   ]
  },
  {
   "cell_type": "markdown",
   "metadata": {},
   "source": [
    "The SeqIO module also has a method for writing fasta files. It needs three arguments:\n",
    "\n",
    "   - A list with the seqRecord objects\n",
    "   - A file handler open in writing mode\n",
    "   - The format in which the program should save the file\n",
    "  \n",
    "We create a list and save all but the B7GMK5 sequence, which we will replace with our target sequence."
   ]
  },
  {
   "cell_type": "code",
   "execution_count": null,
   "metadata": {},
   "outputs": [],
   "source": [
    "# Create a list to store the seqRecord objects to be written\n",
    "selected = []\n",
    "\n",
    "# Iterate the fasta iterator for our sequence\n",
    "for seq_record in target_sequence:\n",
    "    selected.append(seq_record)\n",
    "    \n",
    "# Iterate the fasta iterator for the CD-HIT clusters sequences\n",
    "for seq_record in cdhit_sequences:\n",
    "    \n",
    "    # We append all but the sequence with ID B7GMK5\n",
    "    if 'B7GMK5' not in seq_record.id:\n",
    "        selected.append(seq_record)\n",
    "        \n",
    "# We call a handler to write the sequences into a file\n",
    "with open('output/my_clusters.fasta', 'w') as output_file:\n",
    "    \n",
    "    # Write the sequences with BioPython SeqIO.write() method.\n",
    "    SeqIO.write(selected, output_file, 'fasta')"
   ]
  },
  {
   "cell_type": "markdown",
   "metadata": {},
   "source": [
    "Now that we have sequences we want to compare in a fasta file let us proceed with the multiple sequence alignment. \n",
    "\n",
    "### Calling a multiple sequence alignment (MSA) from the terminal with MAFFT\n",
    "\n",
    "First, we practice with the program from the command line. To execute MAFFT, we need to go to the terminal and run:\n",
    "\n",
    " ```mafft --auto output/my_clusters.fasta```\n",
    "\n",
    "The code is broken down as follows:\n",
    "\tmafft: represents the command name \n",
    "\t--auto: is an option to select the alignment algorithm automatically, depending on our input fasta file.\n",
    "\n",
    "The path to the input fasta file is given at the end of the command. \n",
    "\n",
    "We notice that the program does not write its output to a file, but it prints it directly on the terminal. To store the program's output, being written in the terminal screen, into a file, we employ the \">\" character. This character is put at the end of a command to redirect the command's printed output into a specific file. We now change our code to store the multiple sequence alignment (MSA) result into a file:\n",
    "\n",
    "```mafft --auto output/my_clusters.fasta > output/2HDXMT_msa.fasta```\n",
    "\n",
    "We can now read the newly created file \"output/2HDXMT_msa.fasta\" containing our MSA. For this, we employ BioPython's module AlignIO.\n",
    "\n",
    "### Loading an MSA into BioPython\n",
    "\n",
    "First, we import BioPython's AlignIO module:"
   ]
  },
  {
   "cell_type": "code",
   "execution_count": null,
   "metadata": {},
   "outputs": [],
   "source": [
    "from Bio import AlignIO"
   ]
  },
  {
   "cell_type": "markdown",
   "metadata": {},
   "source": [
    "The AlignIO module allows us to get our fasta file directly into a BioPython's object class called MultipleSeqAlignment. Let's load our fasta file into BioPython and call print and help on the MultipleSeqAlignment object."
   ]
  },
  {
   "cell_type": "code",
   "execution_count": null,
   "metadata": {},
   "outputs": [],
   "source": [
    "alignment = AlignIO.read(\"output/2HDXMT_msa.fasta\", \"fasta\")\n",
    "print(type(alignment))\n",
    "print(alignment)"
   ]
  },
  {
   "cell_type": "code",
   "execution_count": null,
   "metadata": {},
   "outputs": [],
   "source": [
    "help(alignment)"
   ]
  },
  {
   "cell_type": "markdown",
   "metadata": {},
   "source": [
    "Before we move into analyzing our BioPython's MSA object, we will wrap everything we did in just one python function. \n",
    "\n",
    "### Calling terminal command's from the Python interpreter\n",
    "\n",
    "A particular library, called os, can be employed to call command executions from a Python interpreter (e.g., from the jupyter notebook, which is an interactive Python interpreter):"
   ]
  },
  {
   "cell_type": "code",
   "execution_count": null,
   "metadata": {},
   "outputs": [],
   "source": [
    "import os"
   ]
  },
  {
   "cell_type": "markdown",
   "metadata": {},
   "source": [
    "The os library has a system() method that takes a string as its mandatory positional argument. This string represents a command as if you were to execute it directly into the bash terminal. Therefore we can call the os.system('command') to execute something on the terminal. \n",
    "\n",
    "Let's make a test to run the 'mafft' command here:"
   ]
  },
  {
   "cell_type": "code",
   "execution_count": null,
   "metadata": {},
   "outputs": [],
   "source": [
    "os.system('mafft --auto output/my_clusters.fasta > temporary_file.fasta')"
   ]
  },
  {
   "cell_type": "markdown",
   "metadata": {},
   "source": [
    "Notice, that our output file has a different name \"output/2HDXMT_msa_test.fasta\". If you correctly executed the program, we should find this file in the \"output\" folder. Let's try to load it to see if this was successful:"
   ]
  },
  {
   "cell_type": "code",
   "execution_count": null,
   "metadata": {},
   "outputs": [],
   "source": [
    "alignment = AlignIO.read(\"temporary_file.fasta\", \"fasta\")\n",
    "print(alignment)"
   ]
  },
  {
   "cell_type": "markdown",
   "metadata": {},
   "source": [
    "Since we have already loaded the MSA result into the alignment variable, we can use the \"os\" library to remove the file. This library has a particular method for it."
   ]
  },
  {
   "cell_type": "code",
   "execution_count": null,
   "metadata": {},
   "outputs": [],
   "source": [
    "os.remove('temporary_file.fasta')"
   ]
  },
  {
   "cell_type": "markdown",
   "metadata": {},
   "source": [
    "If we try to load the file again, Python will throw a \"No such file or directory\" error:"
   ]
  },
  {
   "cell_type": "code",
   "execution_count": null,
   "metadata": {
    "scrolled": true
   },
   "outputs": [],
   "source": [
    "AlignIO.read(\"temporary_file.fasta\", \"fasta\")"
   ]
  },
  {
   "cell_type": "markdown",
   "metadata": {},
   "source": [
    "Now we are ready to create a function that can automate the MSA execution and its loading into BioPython.\n",
    "\n",
    "### Create a Python multiple sequence alignment function using MAFFT\n",
    "\n",
    "Let's declare such function:"
   ]
  },
  {
   "cell_type": "code",
   "execution_count": null,
   "metadata": {},
   "outputs": [],
   "source": [
    "def multipleSequenceAlignment(input_fasta):\n",
    "    \"\"\"\n",
    "    Function that performs a multiple sequence alignment using \n",
    "    the MAFFT command-line program. The execution is called with \n",
    "    the \"os\" library directly into the terminal. The process creates\n",
    "    a temporary file called 'temporary_file.fasta' that is deleted \n",
    "    after loading the MSA information with BioPython.\n",
    "    \n",
    "    Parameters\n",
    "    ==========\n",
    "    input_fasta : str\n",
    "        Path to the input fasta file containing the sequences to align. \n",
    "        \n",
    "    Returns\n",
    "    =======\n",
    "    msa : Bio.Align.MultipleSeqAlignment\n",
    "        A BioPython's MSA object.\n",
    "    \"\"\"\n",
    "    \n",
    "    # Create the string representing the alignment command\n",
    "    command = 'mafft --auto '+input_fasta+' > temporary_file.fasta'\n",
    "    print(command)\n",
    "    \n",
    "    # Execute the alignment command\n",
    "    os.system(command)\n",
    "    \n",
    "    # Load the output fasta file into BioPython's MSA object\n",
    "    msa = AlignIO.read('temporary_file.fasta', 'fasta')\n",
    "    \n",
    "    # Remove the temporary output file\n",
    "    if os.path.exists('temporary_file.fasta'):\n",
    "        os.remove('temporary_file.fasta')\n",
    "        \n",
    "    # Return the MSA object\n",
    "    \n",
    "    return msa"
   ]
  },
  {
   "cell_type": "code",
   "execution_count": null,
   "metadata": {},
   "outputs": [],
   "source": [
    "msa = multipleSequenceAlignment('output/my_clusters.fasta')\n",
    "print(msa)"
   ]
  },
  {
   "cell_type": "markdown",
   "metadata": {},
   "source": [
    "Nice! You can now write you our functions to call any program from the command line directly as a Python function.\n",
    "\n",
    "### Analyzing an MSA\n",
    "\n",
    "Now that we can quickly call a multiple sequence alignment let's analyze the one we have created for the 2-hydroxymuconate tautomerase protein.\n",
    "\n",
    "Let's count the number of positions that are utterly conserved in the MSA:"
   ]
  },
  {
   "cell_type": "code",
   "execution_count": null,
   "metadata": {},
   "outputs": [],
   "source": [
    "# Get the length of the alignment\n",
    "alignment_lenght = msa.get_alignment_length()\n",
    "\n",
    "# Create a list to store the conserved positions indexes\n",
    "conserved_indexes = []\n",
    "# Create a list to store the conserved positions letters\n",
    "conserved_letters = []\n",
    "\n",
    "# Get the number of sequences\n",
    "n_sequences = len(msa)\n",
    "\n",
    "# Iterate all the alignment index positions\n",
    "for i in range(alignment_lenght):\n",
    "    \n",
    "    # Define the list to store all the letters in the MSA for position i\n",
    "    letters = []\n",
    "    \n",
    "    # Iterate all the sequences in the MSA\n",
    "    for seq_record in msa:\n",
    "        \n",
    "        # Define the current character \n",
    "        character = seq_record.seq[i]\n",
    "        \n",
    "        # Store only letter characters\n",
    "        if character != '-':\n",
    "            letters.append(character)\n",
    "            \n",
    "    # Define a set of unique letters\n",
    "    letters_set = set(letters)\n",
    "    # Store positions with only one letter in the set\n",
    "    if len(letters_set) == 1:\n",
    "        \n",
    "        # Store positions that are present in all the sequences\n",
    "        if len(letters) == n_sequences:\n",
    "            \n",
    "            #Append index to the list of conserved indexes\n",
    "            conserved_indexes.append(i)\n",
    "            #Append character to the list of conserved letters\n",
    "            conserved_letters.append(letters[0])\n",
    "            \n",
    "print('The conserved position indexes are:')\n",
    "print(conserved_indexes)\n",
    "print(conserved_letters)"
   ]
  },
  {
   "cell_type": "markdown",
   "metadata": {},
   "source": [
    "The first alignment position contains a methionine residue, which is generally conserved because it is the start codon in mRNA to protein translation. We also observe a proline and a couple of glycine residues, which control the protein's dynamic behavior. The remaining are a charged \"E\" and \"Q\" and \"T,\" which can generate hydrogen bond contacts. \n",
    "\n",
    "We can search the literature for information about these specific positions; however, we need to map them back in our target sequence to define them clearly. This mapping has to be done by iterating the aligned sequence with UniProt ID P70994:"
   ]
  },
  {
   "cell_type": "code",
   "execution_count": null,
   "metadata": {},
   "outputs": [],
   "source": [
    "# count variable to count the sequence positions\n",
    "count = 0 \n",
    "\n",
    "# Iterate over all the sequences in the MSA\n",
    "for seq_record in msa:\n",
    "    \n",
    "    # Only work with the sequence of interest\n",
    "    if 'P70994' in seq_record.id:\n",
    "        \n",
    "        # Iterate all the positions in the target sequence\n",
    "        for i in range(len(seq_record)):\n",
    "            \n",
    "            # Count a sequence position for each character different than '-'\n",
    "            if seq_record.seq[i] != '-':\n",
    "                count += 1\n",
    "                \n",
    "            # Only print the conserved positions\n",
    "            if i in conserved_indexes:\n",
    "                \n",
    "                # Print the target sequence's position amino acid identity and residue index\n",
    "                print(seq_record.seq[i]+str(count))"
   ]
  },
  {
   "cell_type": "markdown",
   "metadata": {},
   "source": [
    "### Are any of these positions described as relevant for the protein's function? \n",
    "\n",
    "We can search the UniProt database to find if any of these positions have been described for a relevant function. We see that two positions are mentioned for the P70994 sequence:\n",
    "\n",
    " - P2A mutation -> Absence of tautomerase activity using 2-hydroxymuconate. For 2-hydroxy-2,4-pentadienoate and phenylenolpyruvate, a strong decrease of catalytic efficiency and a 2-fold decrease of affinity is observed.\n",
    " \n",
    " - R12A mutation -> Absence of tautomerase activity using 2-hydroxymuconate. For 2-hydroxy-2,4-pentadienoate and phenylenolpyruvate, a strong decrease of catalytic efficiency and a 2-fold decrease of affinity is observed.\n",
    " \n",
    "The position P2 is essential for catalysis and is absolutely conserved. Position R12, which is also crucial for catalysis, does not seem to be exclusively conserved. Let's have a look at the alignment for that particular position. If we repeat the above's code, we can see the alignment position that corresponds to the R12 residue:  "
   ]
  },
  {
   "cell_type": "code",
   "execution_count": null,
   "metadata": {},
   "outputs": [],
   "source": [
    "# count variable to count the sequence positions\n",
    "count = 0 \n",
    "\n",
    "# Iterate over all the sequences in the MSA\n",
    "for seq_record in msa:\n",
    "    \n",
    "    # Only work with the sequence of interest\n",
    "    if 'P70994' in seq_record.id:\n",
    "        \n",
    "        # Iterate all the positions in the target sequence\n",
    "        for i in range(len(seq_record)):\n",
    "            \n",
    "            # Count a sequence position for each character different than '-'\n",
    "            if seq_record.seq[i] != '-':\n",
    "                count += 1\n",
    "                \n",
    "            if count == 12:\n",
    "                \n",
    "                # Print the target sequence's position amino acid identity and residue index\n",
    "                print(i, seq_record.seq[i]+str(count))"
   ]
  },
  {
   "cell_type": "markdown",
   "metadata": {},
   "source": [
    "Now we can print all the letters in that position:"
   ]
  },
  {
   "cell_type": "code",
   "execution_count": null,
   "metadata": {},
   "outputs": [],
   "source": [
    "# Define the list to store all the letters in the MSA for position 11\n",
    "letters = []\n",
    "    \n",
    "# Iterate all the sequences in the MSA\n",
    "for seq_record in msa:\n",
    "        \n",
    "    # Define the current character \n",
    "    character = seq_record.seq[11]\n",
    "        \n",
    "    # Store only letter characters\n",
    "    if character != '-':\n",
    "        letters.append(character)\n",
    "    \n",
    "# Define a set of unique letters\n",
    "letters_set = set(letters)\n",
    "\n",
    "print(\"List of all the letters in the MSA's position 11:\")\n",
    "print(letters)\n",
    "print()\n",
    "print(\"Set of unique letters:\")\n",
    "print(letters_set)\n",
    "print()\n",
    "\n",
    "# We calculate the frequency that each letter appear in the MSA\n",
    "for l in letters_set:\n",
    "    frequency = letters.count(l)/len(letters)\n",
    "    print('Frequency for letter '+l+' in position 11:')\n",
    "    print(frequency)\n",
    "    print()"
   ]
  },
  {
   "cell_type": "markdown",
   "metadata": {},
   "source": [
    "We see that the enzyme can also tolerate a lysine residue in that position; however, it does it with a lower preference. Therefore, not only exclusively conserved residues can be biochemically meaningful, but positions with similar amino acids can also have functional roles.\n",
    "\n",
    "### Generating a comparison matrix with an MSA\n",
    "\n",
    "Another useful application of a multiple sequence alignment program is the distance Matrix. In the previous session, we saw how to calculate an identity matrix by comparing multiple pairwise alignments. Now we can do it directly from our MSA object. Let's first import NumPy:"
   ]
  },
  {
   "cell_type": "code",
   "execution_count": null,
   "metadata": {},
   "outputs": [],
   "source": [
    "import numpy as np"
   ]
  },
  {
   "cell_type": "markdown",
   "metadata": {},
   "source": [
    "We can now recall our PID function from our previous practice session here. We need to make a small adjustment to the code to directly input the two already-aligned sequences from the MSA object."
   ]
  },
  {
   "cell_type": "code",
   "execution_count": null,
   "metadata": {},
   "outputs": [],
   "source": [
    "def calculatePID(sequence_i, sequence_j):\n",
    "    \n",
    "    count = 0 # Variable containing the count of matching characters\n",
    "    # iterate\n",
    "    for k in range(len(sequence_i)):\n",
    "        p1 = sequence_i[k] # Position k of first alignment \n",
    "        p2 = sequence_j[k] # Position k of second alignment\n",
    "    \n",
    "        # Only count when we don't have '-' at any position.\n",
    "        if p1 != '-' and p2 != '-':\n",
    "            # Only when the sequences match\n",
    "            if p1 == p2:\n",
    "                count += 1\n",
    "            \n",
    "    # Get length of each sequence\n",
    "    li = len([p for p in sequence_i if p != '-'])\n",
    "    lj = len([p for p in sequence_j if p != '-'])\n",
    "    \n",
    "    # the PID uses the length of the shortest sequence to convert to percentage\n",
    "    pid = count/min(li, lj)\n",
    "    return pid"
   ]
  },
  {
   "cell_type": "markdown",
   "metadata": {},
   "source": [
    "With this formula then we proceed to iterate our sequences with a double for loop. This double iteration ensures that all the sequences are compared to each other:"
   ]
  },
  {
   "cell_type": "code",
   "execution_count": null,
   "metadata": {},
   "outputs": [],
   "source": [
    "def distanceMatrixFromMSA(msa):\n",
    "    \n",
    "    N = len(msa)\n",
    "    M = np.zeros((N, N))\n",
    "    \n",
    "    for i in range(N):\n",
    "        for j in range(N):\n",
    "            \n",
    "            seqi = msa[i].seq\n",
    "            seqj = msa[j].seq\n",
    "            \n",
    "            if i == j: # the same element always has a PID=1.0\n",
    "                M[i][j] = 1.0\n",
    "            if j > i : # We compare only half matrix\n",
    "                M[i][j] = calculatePID(seqi, seqj)\n",
    "                M[j][i] = M[i][j] # This to fill the lower half matrix\n",
    "    return M"
   ]
  },
  {
   "cell_type": "markdown",
   "metadata": {},
   "source": [
    "Notice that we only need to calculate the PID for a portion of the matrix as in the previous practice session. This computational saving is because the diagonal always is filled with ones, and also because the comparison matrix is symmetric; comparing i to j and comparing j to i is the same.\n",
    "\n",
    "We call the function, and then we plot the matrix using the matplotlib library. "
   ]
  },
  {
   "cell_type": "code",
   "execution_count": null,
   "metadata": {},
   "outputs": [],
   "source": [
    "M = distanceMatrixFromMSA(msa)"
   ]
  },
  {
   "cell_type": "code",
   "execution_count": null,
   "metadata": {},
   "outputs": [],
   "source": [
    "import matplotlib.pyplot as plt"
   ]
  },
  {
   "cell_type": "code",
   "execution_count": null,
   "metadata": {},
   "outputs": [],
   "source": [
    "plt.matshow(M)\n",
    "plt.title('PID matrix')\n",
    "plt.xlabel('Sequence index i')\n",
    "plt.ylabel('Sequence index j')"
   ]
  },
  {
   "cell_type": "markdown",
   "metadata": {},
   "source": [
    "### Wrapping up\n",
    "\n",
    "In this third practice session, we learned:\n",
    "\n",
    "- How to generate a non-redundant and significant set of sequences with CD-HIT\n",
    "- How to write sequences into a fasta file with BioPython\n",
    "- How to use the MAFFT program for multiple sequence alignments (MSAs).\n",
    "- How to execute terminal commands using the Python interpreter.\n",
    "- How to read MSA files with BioPython\n",
    "- How to operate an MSA to search for patterns."
   ]
  }
 ],
 "metadata": {
  "kernelspec": {
   "display_name": "Python 3",
   "language": "python",
   "name": "python3"
  },
  "language_info": {
   "codemirror_mode": {
    "name": "ipython",
    "version": 3
   },
   "file_extension": ".py",
   "mimetype": "text/x-python",
   "name": "python",
   "nbconvert_exporter": "python",
   "pygments_lexer": "ipython3",
   "version": "3.6.10"
  }
 },
 "nbformat": 4,
 "nbformat_minor": 4
}
